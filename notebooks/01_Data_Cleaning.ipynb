{
 "cells": [
  {
   "cell_type": "markdown",
   "metadata": {},
   "source": [
    "# Data Cleaning\n",
    "This notebook aims to clean the raw data and outputs it so it as a `.pkl` file in order to be used used for future feature selection and engineering steps. There are some caveats when it comes to outliers, especially for the `item_price`. Since we need this variable to calculate the cost later on, we can not simply cap `item_price` outliers or transform them.\n"
   ]
  },
  {
   "cell_type": "markdown",
   "metadata": {},
   "source": [
    "## Table of Contents\n",
    "* [1.Import Data](#import_data)\n",
    "    * [1.1 Change Data Types](#change_dtypes)\n",
    "* [2.Find and Impute Vales](#find_impute_values)\n",
    "    * [2.1  Imputing and Cleaning of `delivery_date`](#impute_delivery)\n",
    "    * [ 2.2 Imputing and cleaning of  `user_dob`](#impute_user_dob)\n",
    "* [3.Outliers and Invalid values](#outliers_invalid)\n",
    "    * [ 3.1 `item_price`](#item_price)\n",
    "    * [ 3.2 Categorical Data](#categorical)\n",
    "        * [ 3.2.1 `item_color`](#item_color)\n",
    "        * [ 3.2.2 `item_size`](#item_size)\n",
    "    * [ 3.3 Datetime Values](#datetime)\n",
    "* [4.Export Cleaned Data](#export)\n",
    "        \n"
   ]
  },
  {
   "cell_type": "code",
   "execution_count": 91,
   "metadata": {},
   "outputs": [],
   "source": [
    "# Required Packages\n",
    "\n",
    "#DS Packages\n",
    "import pandas as pd\n",
    "import numpy as np\n",
    "\n",
    "#Utils\n",
    "from dateutil.relativedelta import relativedelta\n",
    "from datetime import datetime\n",
    "from datetime import timedelta\n",
    "\n",
    "#Data Viualization\n",
    "import seaborn as sns\n",
    "import matplotlib.pyplot as plt\n",
    "\n",
    "# always display plots inline \n",
    "%matplotlib inline \n",
    "sns.set(style='darkgrid')\n",
    "\n",
    "#ignore warnings\n",
    "import warnings\n",
    "warnings.filterwarnings('ignore')\n",
    "\n",
    "#Random Seed Constant\n",
    "random_seed = 420\n",
    "\n",
    "#set numpy random seed \n",
    "np.random.seed(random_seed)\n",
    "\n",
    "#Custom Util funcs\n",
    "import os\n",
    "import sys\n",
    "module_path = os.path.abspath(os.path.join('..'))\n",
    "if module_path not in sys.path:\n",
    "    sys.path.append(module_path)\n",
    "    \n",
    "#import custom utility functions     \n",
    "from src.d00_utils.utility import print_full, make_lowercase, fix_spelling_mistakes\n",
    "\n"
   ]
  },
  {
   "cell_type": "markdown",
   "metadata": {},
   "source": [
    "#### Data Cleaning Functions"
   ]
  },
  {
   "cell_type": "code",
   "execution_count": 92,
   "metadata": {},
   "outputs": [],
   "source": [
    "def cap_outliers(col, iqr_threshold=1.5, verbose=False, no_negative = False, manual_bounds = False, cap_only_lower=False):\n",
    "    '''Caps outliers to closest existing value within threshold (IQR).'''\n",
    "    Q1 = col.quantile(0.25)\n",
    "    Q3 = col.quantile(0.75)\n",
    "    IQR = Q3 - Q1\n",
    "    \n",
    "    lbound = Q1 - iqr_threshold * IQR\n",
    "    ubound = Q3 + iqr_threshold * IQR\n",
    "    if no_negative:\n",
    "        if lbound < 0:\n",
    "            lbound = 0\n",
    "        \n",
    "    outliers = (col < lbound) | (col > ubound)\n",
    "    if verbose:\n",
    "        print(f'  Number of outliers:{len(outliers)}')\n",
    "    \n",
    "    col.loc[col < lbound] = col.loc[~outliers].min()\n",
    "    if cap_only_lower:\n",
    "        return col\n",
    "    col.loc[col > ubound] = col.loc[~outliers].max()\n",
    "\n",
    "    if verbose:\n",
    "            print('\\n'.join(\n",
    "                ['Capping outliers by the IQR method:',\n",
    "                 f'   IQR threshold: {iqr_threshold}',\n",
    "                 f'   Lower bound: {lbound}',\n",
    "                 f'   Upper bound: {ubound}\\n']))\n",
    "\n",
    "    return col"
   ]
  },
  {
   "cell_type": "code",
   "execution_count": 93,
   "metadata": {},
   "outputs": [],
   "source": [
    "def get_category_level_diffs(series_arr):\n",
    "    \n",
    "    series_arr = make_lowercase(series_arr)\n",
    "    \n",
    "    series_1_cats =  series_arr[0].cat.categories\n",
    "    series_2_cats =  series_arr[1].cat.categories \n",
    "    \n",
    "\n",
    "    diffs = list(set(series_1_cats).symmetric_difference(set(series_2_cats)))\n",
    "    print(f'Number of different Category Levels between datasets: {len(diffs)}')\n",
    "    return diffs"
   ]
  },
  {
   "cell_type": "code",
   "execution_count": 94,
   "metadata": {},
   "outputs": [],
   "source": [
    "def unify_cat_levels(series_arr):\n",
    "    \n",
    "    series_arr = make_lowercase(series_arr)\n",
    "    diffs = get_category_level_diffs(series_arr)\n",
    "    \n",
    "    \n",
    "    for i in range(len(series_arr)):\n",
    "        series_arr[i] = ['diff' if x in diffs else x for x in series_arr[i]]\n",
    "        print(f'Series {i+1}: values unified')\n",
    "        print(f'Number of rows with diff category level: {series_arr[i].count(\"diff\")}')\n",
    "    \n",
    "    return series_arr[0], series_arr[1] "
   ]
  },
  {
   "cell_type": "markdown",
   "metadata": {},
   "source": [
    "## 1. Import Data\n",
    "<a id=\"import_data\"></a>"
   ]
  },
  {
   "cell_type": "code",
   "execution_count": 95,
   "metadata": {},
   "outputs": [],
   "source": [
    "#Known Data Set\n",
    "df = pd.read_csv('../data/01_raw/BADS_WS2021_known.csv')\n",
    "df.name = 'Known Data'\n",
    "\n",
    "#Unknown Data Set\n",
    "df_unknown = pd.read_csv('../data/01_raw/BADS_WS2021_unknown.csv')\n",
    "df_unknown.name = 'Unknown Data'"
   ]
  },
  {
   "cell_type": "code",
   "execution_count": 96,
   "metadata": {
    "scrolled": true
   },
   "outputs": [
    {
     "data": {
      "text/html": [
       "<div>\n",
       "<style scoped>\n",
       "    .dataframe tbody tr th:only-of-type {\n",
       "        vertical-align: middle;\n",
       "    }\n",
       "\n",
       "    .dataframe tbody tr th {\n",
       "        vertical-align: top;\n",
       "    }\n",
       "\n",
       "    .dataframe thead th {\n",
       "        text-align: right;\n",
       "    }\n",
       "</style>\n",
       "<table border=\"1\" class=\"dataframe\">\n",
       "  <thead>\n",
       "    <tr style=\"text-align: right;\">\n",
       "      <th></th>\n",
       "      <th>order_item_id</th>\n",
       "      <th>order_date</th>\n",
       "      <th>delivery_date</th>\n",
       "      <th>item_id</th>\n",
       "      <th>item_size</th>\n",
       "      <th>item_color</th>\n",
       "      <th>brand_id</th>\n",
       "      <th>item_price</th>\n",
       "      <th>user_id</th>\n",
       "      <th>user_title</th>\n",
       "      <th>user_dob</th>\n",
       "      <th>user_state</th>\n",
       "      <th>user_reg_date</th>\n",
       "      <th>return</th>\n",
       "    </tr>\n",
       "  </thead>\n",
       "  <tbody>\n",
       "    <tr>\n",
       "      <th>0</th>\n",
       "      <td>1</td>\n",
       "      <td>2016-06-22</td>\n",
       "      <td>2016-06-27</td>\n",
       "      <td>643</td>\n",
       "      <td>38</td>\n",
       "      <td>navy</td>\n",
       "      <td>30</td>\n",
       "      <td>49.90</td>\n",
       "      <td>30822</td>\n",
       "      <td>Mrs</td>\n",
       "      <td>1969-04-17</td>\n",
       "      <td>Saxony</td>\n",
       "      <td>2016-06-23</td>\n",
       "      <td>0</td>\n",
       "    </tr>\n",
       "    <tr>\n",
       "      <th>1</th>\n",
       "      <td>2</td>\n",
       "      <td>2016-06-22</td>\n",
       "      <td>NaN</td>\n",
       "      <td>337</td>\n",
       "      <td>152</td>\n",
       "      <td>grey</td>\n",
       "      <td>30</td>\n",
       "      <td>19.95</td>\n",
       "      <td>30822</td>\n",
       "      <td>Mrs</td>\n",
       "      <td>1969-04-17</td>\n",
       "      <td>Saxony</td>\n",
       "      <td>2016-06-23</td>\n",
       "      <td>0</td>\n",
       "    </tr>\n",
       "  </tbody>\n",
       "</table>\n",
       "</div>"
      ],
      "text/plain": [
       "   order_item_id  order_date delivery_date  item_id item_size item_color  \\\n",
       "0              1  2016-06-22    2016-06-27      643        38       navy   \n",
       "1              2  2016-06-22           NaN      337       152       grey   \n",
       "\n",
       "   brand_id  item_price  user_id user_title    user_dob user_state  \\\n",
       "0        30       49.90    30822        Mrs  1969-04-17     Saxony   \n",
       "1        30       19.95    30822        Mrs  1969-04-17     Saxony   \n",
       "\n",
       "  user_reg_date  return  \n",
       "0    2016-06-23       0  \n",
       "1    2016-06-23       0  "
      ]
     },
     "execution_count": 96,
     "metadata": {},
     "output_type": "execute_result"
    }
   ],
   "source": [
    "# check if data was correctly loaded\n",
    "df.head(2)"
   ]
  },
  {
   "cell_type": "code",
   "execution_count": 97,
   "metadata": {
    "scrolled": false
   },
   "outputs": [
    {
     "data": {
      "text/html": [
       "<div>\n",
       "<style scoped>\n",
       "    .dataframe tbody tr th:only-of-type {\n",
       "        vertical-align: middle;\n",
       "    }\n",
       "\n",
       "    .dataframe tbody tr th {\n",
       "        vertical-align: top;\n",
       "    }\n",
       "\n",
       "    .dataframe thead th {\n",
       "        text-align: right;\n",
       "    }\n",
       "</style>\n",
       "<table border=\"1\" class=\"dataframe\">\n",
       "  <thead>\n",
       "    <tr style=\"text-align: right;\">\n",
       "      <th></th>\n",
       "      <th>order_item_id</th>\n",
       "      <th>order_date</th>\n",
       "      <th>delivery_date</th>\n",
       "      <th>item_id</th>\n",
       "      <th>item_size</th>\n",
       "      <th>item_color</th>\n",
       "      <th>brand_id</th>\n",
       "      <th>item_price</th>\n",
       "      <th>user_id</th>\n",
       "      <th>user_title</th>\n",
       "      <th>user_dob</th>\n",
       "      <th>user_state</th>\n",
       "      <th>user_reg_date</th>\n",
       "    </tr>\n",
       "  </thead>\n",
       "  <tbody>\n",
       "    <tr>\n",
       "      <th>0</th>\n",
       "      <td>100001</td>\n",
       "      <td>2016-10-15</td>\n",
       "      <td>2017-01-10</td>\n",
       "      <td>1591</td>\n",
       "      <td>40</td>\n",
       "      <td>anthracite</td>\n",
       "      <td>9</td>\n",
       "      <td>69.9</td>\n",
       "      <td>56943</td>\n",
       "      <td>Mrs</td>\n",
       "      <td>1967-09-18</td>\n",
       "      <td>Baden-Wuerttemberg</td>\n",
       "      <td>2016-10-16</td>\n",
       "    </tr>\n",
       "    <tr>\n",
       "      <th>1</th>\n",
       "      <td>100002</td>\n",
       "      <td>2016-10-15</td>\n",
       "      <td>2017-01-10</td>\n",
       "      <td>1589</td>\n",
       "      <td>m</td>\n",
       "      <td>red</td>\n",
       "      <td>11</td>\n",
       "      <td>69.9</td>\n",
       "      <td>56943</td>\n",
       "      <td>Mrs</td>\n",
       "      <td>1967-09-18</td>\n",
       "      <td>Baden-Wuerttemberg</td>\n",
       "      <td>2016-10-16</td>\n",
       "    </tr>\n",
       "  </tbody>\n",
       "</table>\n",
       "</div>"
      ],
      "text/plain": [
       "   order_item_id  order_date delivery_date  item_id item_size  item_color  \\\n",
       "0         100001  2016-10-15    2017-01-10     1591        40  anthracite   \n",
       "1         100002  2016-10-15    2017-01-10     1589         m         red   \n",
       "\n",
       "   brand_id  item_price  user_id user_title    user_dob          user_state  \\\n",
       "0         9        69.9    56943        Mrs  1967-09-18  Baden-Wuerttemberg   \n",
       "1        11        69.9    56943        Mrs  1967-09-18  Baden-Wuerttemberg   \n",
       "\n",
       "  user_reg_date  \n",
       "0    2016-10-16  \n",
       "1    2016-10-16  "
      ]
     },
     "execution_count": 97,
     "metadata": {},
     "output_type": "execute_result"
    }
   ],
   "source": [
    "df_unknown.head(2)"
   ]
  },
  {
   "cell_type": "code",
   "execution_count": 98,
   "metadata": {},
   "outputs": [
    {
     "name": "stdout",
     "output_type": "stream",
     "text": [
      "<class 'pandas.core.frame.DataFrame'>\n",
      "RangeIndex: 100000 entries, 0 to 99999\n",
      "Data columns (total 14 columns):\n",
      " #   Column         Non-Null Count   Dtype  \n",
      "---  ------         --------------   -----  \n",
      " 0   order_item_id  100000 non-null  int64  \n",
      " 1   order_date     100000 non-null  object \n",
      " 2   delivery_date  90682 non-null   object \n",
      " 3   item_id        100000 non-null  int64  \n",
      " 4   item_size      100000 non-null  object \n",
      " 5   item_color     100000 non-null  object \n",
      " 6   brand_id       100000 non-null  int64  \n",
      " 7   item_price     100000 non-null  float64\n",
      " 8   user_id        100000 non-null  int64  \n",
      " 9   user_title     100000 non-null  object \n",
      " 10  user_dob       91275 non-null   object \n",
      " 11  user_state     100000 non-null  object \n",
      " 12  user_reg_date  100000 non-null  object \n",
      " 13  return         100000 non-null  int64  \n",
      "dtypes: float64(1), int64(5), object(8)\n",
      "memory usage: 10.7+ MB\n"
     ]
    }
   ],
   "source": [
    "df.info()"
   ]
  },
  {
   "cell_type": "markdown",
   "metadata": {},
   "source": [
    "Here we can see that the `order_item_id` apperantly follows a different format, hence we should change the `order_item_id` of our *known df*, since our final predictions will be made on the *unknown df* index format."
   ]
  },
  {
   "cell_type": "code",
   "execution_count": 99,
   "metadata": {},
   "outputs": [],
   "source": [
    "#add 100000 to each order_item_id \n",
    "df['order_item_id'] = df['order_item_id']\n",
    "df['order_item_id'] = df['order_item_id']+ 100000\n",
    "#set order_item_id as index\n",
    "df.set_index('order_item_id', inplace = True)\n",
    "df_unknown.set_index('order_item_id',inplace = True)"
   ]
  },
  {
   "cell_type": "markdown",
   "metadata": {},
   "source": [
    "## 1.2 Change Data Types of variables\n",
    "<a id=\"change_dtypes\"></a>\n",
    "This dataset contains mostly categorical variables, four date_time variables (no time) and one numeric variable."
   ]
  },
  {
   "cell_type": "code",
   "execution_count": 100,
   "metadata": {},
   "outputs": [],
   "source": [
    "def changeDtypes(_df):\n",
    "    # date_time variables\n",
    "    date_vars = ['order_date',\n",
    "                 'delivery_date',\n",
    "                 'user_dob',\n",
    "                 'user_reg_date']\n",
    "    #category variables\n",
    "    category_vars = ['item_size',\n",
    "                     'item_color',\n",
    "                     'user_title',\n",
    "                     'user_state',\n",
    "                     'brand_id',\n",
    "                     'item_id',\n",
    "                     'user_id']\n",
    "    # numeric variables\n",
    "    numeric_vars = 'item_price'\n",
    "    \n",
    "    # Convert to appropriate variable dtype\n",
    "    _df[date_vars] = _df[date_vars].astype('datetime64[ns]')\n",
    "    _df[category_vars] = _df[category_vars].astype('category')\n",
    "    _df[numeric_vars] = _df[numeric_vars].astype(np.float32)\n",
    "    return _df"
   ]
  },
  {
   "cell_type": "code",
   "execution_count": 101,
   "metadata": {},
   "outputs": [],
   "source": [
    "# change dtypes for both df's\n",
    "df = changeDtypes(df)\n",
    "df_unknown = changeDtypes(df_unknown)"
   ]
  },
  {
   "cell_type": "code",
   "execution_count": 102,
   "metadata": {},
   "outputs": [
    {
     "name": "stdout",
     "output_type": "stream",
     "text": [
      "\n",
      "================================> KOWN DF <=====================================\n",
      "<class 'pandas.core.frame.DataFrame'>\n",
      "Int64Index: 100000 entries, 100001 to 200000\n",
      "Data columns (total 13 columns):\n",
      " #   Column         Non-Null Count   Dtype         \n",
      "---  ------         --------------   -----         \n",
      " 0   order_date     100000 non-null  datetime64[ns]\n",
      " 1   delivery_date  90682 non-null   datetime64[ns]\n",
      " 2   item_id        100000 non-null  category      \n",
      " 3   item_size      100000 non-null  category      \n",
      " 4   item_color     100000 non-null  category      \n",
      " 5   brand_id       100000 non-null  category      \n",
      " 6   item_price     100000 non-null  float32       \n",
      " 7   user_id        100000 non-null  category      \n",
      " 8   user_title     100000 non-null  category      \n",
      " 9   user_dob       91275 non-null   datetime64[ns]\n",
      " 10  user_state     100000 non-null  category      \n",
      " 11  user_reg_date  100000 non-null  datetime64[ns]\n",
      " 12  return         100000 non-null  int64         \n",
      "dtypes: category(7), datetime64[ns](4), float32(1), int64(1)\n",
      "memory usage: 6.8 MB\n",
      "\n",
      "================================> UNKOWN DF <=====================================\n",
      "<class 'pandas.core.frame.DataFrame'>\n",
      "Int64Index: 50000 entries, 100001 to 150000\n",
      "Data columns (total 12 columns):\n",
      " #   Column         Non-Null Count  Dtype         \n",
      "---  ------         --------------  -----         \n",
      " 0   order_date     50000 non-null  datetime64[ns]\n",
      " 1   delivery_date  44155 non-null  datetime64[ns]\n",
      " 2   item_id        50000 non-null  category      \n",
      " 3   item_size      50000 non-null  category      \n",
      " 4   item_color     50000 non-null  category      \n",
      " 5   brand_id       50000 non-null  category      \n",
      " 6   item_price     50000 non-null  float32       \n",
      " 7   user_id        50000 non-null  category      \n",
      " 8   user_title     50000 non-null  category      \n",
      " 9   user_dob       44887 non-null  datetime64[ns]\n",
      " 10  user_state     50000 non-null  category      \n",
      " 11  user_reg_date  50000 non-null  datetime64[ns]\n",
      "dtypes: category(7), datetime64[ns](4), float32(1)\n",
      "memory usage: 3.3 MB\n"
     ]
    }
   ],
   "source": [
    "#check if all categories have been assigned correctly\n",
    "print('\\n================================> KOWN DF <=====================================')\n",
    "df.info()\n",
    "print('\\n================================> UNKOWN DF <=====================================')\n",
    "df_unknown.info()"
   ]
  },
  {
   "cell_type": "markdown",
   "metadata": {},
   "source": [
    "## 2 Find and impute missing data\n",
    "<a id=\"find_impute_values\"></a>\n",
    "Next we will check if there are any missing values in our dataset and impute the missing values. Since our final prediction has to be made for all 50.000 entries, we do not have the option to drop any missing values, because we need to perform the same mutations on both datasets."
   ]
  },
  {
   "cell_type": "code",
   "execution_count": 103,
   "metadata": {
    "scrolled": true
   },
   "outputs": [
    {
     "data": {
      "text/plain": [
       "order_date          0\n",
       "delivery_date    9318\n",
       "item_id             0\n",
       "item_size           0\n",
       "item_color          0\n",
       "brand_id            0\n",
       "item_price          0\n",
       "user_id             0\n",
       "user_title          0\n",
       "user_dob         8725\n",
       "user_state          0\n",
       "user_reg_date       0\n",
       "return              0\n",
       "dtype: int64"
      ]
     },
     "execution_count": 103,
     "metadata": {},
     "output_type": "execute_result"
    }
   ],
   "source": [
    "# Generate a list of missing values\n",
    "df.isnull().sum()"
   ]
  },
  {
   "cell_type": "markdown",
   "metadata": {},
   "source": [
    "As we can see, we have some missing values for both `delivery_date` and `user_dob`. For the `user_dob` we will impute the missing values using random values from the distribution, for the `delivery_date` we will rather add the median `delivery_time` of the non-null values to the `order_date` to impute the `delivery_date`."
   ]
  },
  {
   "cell_type": "markdown",
   "metadata": {},
   "source": [
    "### 2.1 Imputing and Cleaning of `delivery_date`\n",
    "<a id=\"impute_delivery\"> </a>"
   ]
  },
  {
   "cell_type": "code",
   "execution_count": 104,
   "metadata": {
    "scrolled": true
   },
   "outputs": [
    {
     "data": {
      "text/plain": [
       "count                            90682\n",
       "mean     2016-05-06 01:34:39.522085376\n",
       "min                1994-12-31 00:00:00\n",
       "25%                2016-07-16 00:00:00\n",
       "50%                2016-08-08 00:00:00\n",
       "75%                2016-08-28 00:00:00\n",
       "max                2017-01-24 00:00:00\n",
       "Name: delivery_date, dtype: object"
      ]
     },
     "execution_count": 104,
     "metadata": {},
     "output_type": "execute_result"
    }
   ],
   "source": [
    "df['delivery_date'].describe(datetime_is_numeric=True)"
   ]
  },
  {
   "cell_type": "code",
   "execution_count": 105,
   "metadata": {},
   "outputs": [
    {
     "name": "stdout",
     "output_type": "stream",
     "text": [
      "Known Data:\n",
      " 2016.0    89607\n",
      "1994.0     1072\n",
      "2017.0        3\n",
      "Name: delivery_date, dtype: int64 \n",
      "\n",
      "Unknown Data:\n",
      " 2016.0    42244\n",
      "2017.0     1402\n",
      "1994.0      509\n",
      "Name: delivery_date, dtype: int64\n"
     ]
    }
   ],
   "source": [
    "print('Known Data:\\n',df['delivery_date'].apply(lambda x: x.year).value_counts(), '\\n')\n",
    "print('Unknown Data:\\n',df_unknown['delivery_date'].apply(lambda x: x.year).value_counts())"
   ]
  },
  {
   "cell_type": "markdown",
   "metadata": {},
   "source": [
    "Above we see that most values are either from the end of 2016 or the beginning of 2017. Some values however seem to be 22 years before 2016. Therefore one could arguebly conclude that these entries were wrongly entered or somehow corrupted by the system. Thus, we will add 22 years to all of these values."
   ]
  },
  {
   "cell_type": "code",
   "execution_count": 106,
   "metadata": {},
   "outputs": [],
   "source": [
    "#iterate through all entries and add 22 years to all entries that are lower than 2016\n",
    "df['delivery_date'] = df['delivery_date'].apply(\n",
    "    lambda x: x + relativedelta(years=22) \n",
    "    if x.year < 2016 \\\n",
    "    else x)\n",
    "df_unknown['delivery_date'] = df_unknown['delivery_date'].apply(\n",
    "    lambda x: x + relativedelta(years=22)  \n",
    "    if x.year < 2016 \\\n",
    "    else x )"
   ]
  },
  {
   "cell_type": "code",
   "execution_count": 107,
   "metadata": {
    "scrolled": true
   },
   "outputs": [
    {
     "name": "stdout",
     "output_type": "stream",
     "text": [
      "<class 'pandas.core.frame.DataFrame'>\n",
      "Int64Index: 100000 entries, 100001 to 200000\n",
      "Data columns (total 13 columns):\n",
      " #   Column         Non-Null Count   Dtype         \n",
      "---  ------         --------------   -----         \n",
      " 0   order_date     100000 non-null  datetime64[ns]\n",
      " 1   delivery_date  90682 non-null   datetime64[ns]\n",
      " 2   item_id        100000 non-null  category      \n",
      " 3   item_size      100000 non-null  category      \n",
      " 4   item_color     100000 non-null  category      \n",
      " 5   brand_id       100000 non-null  category      \n",
      " 6   item_price     100000 non-null  float32       \n",
      " 7   user_id        100000 non-null  category      \n",
      " 8   user_title     100000 non-null  category      \n",
      " 9   user_dob       91275 non-null   datetime64[ns]\n",
      " 10  user_state     100000 non-null  category      \n",
      " 11  user_reg_date  100000 non-null  datetime64[ns]\n",
      " 12  return         100000 non-null  int64         \n",
      "dtypes: category(7), datetime64[ns](4), float32(1), int64(1)\n",
      "memory usage: 6.8 MB\n"
     ]
    }
   ],
   "source": [
    "df.info()"
   ]
  },
  {
   "cell_type": "markdown",
   "metadata": {},
   "source": [
    "Now we can find the **median** `delivery_time` and add this to the `order_date` of the missing entries in order to impute the missing `delivery_date`. We use the median since it should be more robust than the *mean*."
   ]
  },
  {
   "cell_type": "code",
   "execution_count": 108,
   "metadata": {},
   "outputs": [],
   "source": [
    "def impute_delivery_time(_df, verbose = False):\n",
    "    print(f'Imputing Delivery times for: {_df.name}')\n",
    "    # create df with only nonNA values of order date and delivery date\n",
    "    df_order_delivery = _df[['order_date', 'delivery_date']].dropna()\n",
    "    \n",
    "    #use timedelta to calculate difference between order and delivery date\n",
    "    df_delivery_time = df_order_delivery.apply(\n",
    "        lambda x: (x['delivery_date'] - x['order_date']).days,\n",
    "        axis = 1,\n",
    "        result_type='expand')\n",
    "    \n",
    "    # compoute mean_deliver_time\n",
    "    mean_deliver_time = df_delivery_time.median()\n",
    "    \n",
    "    if verbose:\n",
    "        print('Mean Delivery Time is: ',mean_deliver_time)\n",
    "        \n",
    "    #add median delivery_time to order date of missing values\n",
    "    _df['delivery_date'] =_df.apply(\n",
    "        lambda x: x['order_date'] + timedelta(days=mean_deliver_time) \\\n",
    "        if pd.isnull(x['delivery_date']) \\\n",
    "        else x['delivery_date'], axis=1, result_type='expand')\n",
    "    if verbose:\n",
    "        print('No. of Missing Values after imputation:',_df['delivery_date'].isnull().sum())\n",
    "    return _df"
   ]
  },
  {
   "cell_type": "code",
   "execution_count": 109,
   "metadata": {},
   "outputs": [
    {
     "name": "stdout",
     "output_type": "stream",
     "text": [
      "Imputing Delivery times for: Known Data\n",
      "Mean Delivery Time is:  3.0\n",
      "No. of Missing Values after imputation: 0\n",
      "Imputing Delivery times for: Unknown Data\n",
      "Mean Delivery Time is:  3.0\n",
      "No. of Missing Values after imputation: 0\n"
     ]
    }
   ],
   "source": [
    "df = impute_delivery_time(df, verbose = True)\n",
    "df_unknown = impute_delivery_time(df_unknown, verbose = True)"
   ]
  },
  {
   "cell_type": "code",
   "execution_count": 110,
   "metadata": {},
   "outputs": [
    {
     "data": {
      "text/plain": [
       "<seaborn.axisgrid.FacetGrid at 0x7fbd54941640>"
      ]
     },
     "execution_count": 110,
     "metadata": {},
     "output_type": "execute_result"
    },
    {
     "data": {
      "image/png": "[encoded data removed]",
      "text/plain": [
       "<Figure size 360x360 with 1 Axes>"
      ]
     },
     "metadata": {},
     "output_type": "display_data"
    }
   ],
   "source": [
    "sns.displot(df['delivery_date'])"
   ]
  },
  {
   "cell_type": "markdown",
   "metadata": {},
   "source": [
    "### 2.2 Imputing and cleaning of  `user_dob`\n",
    "<a id = \"impute_user_dob\"></a>"
   ]
  },
  {
   "cell_type": "code",
   "execution_count": 111,
   "metadata": {},
   "outputs": [
    {
     "data": {
      "text/plain": [
       "<seaborn.axisgrid.FacetGrid at 0x7fbd4139f2b0>"
      ]
     },
     "execution_count": 111,
     "metadata": {},
     "output_type": "execute_result"
    },
    {
     "data": {
      "image/png": "[encoded data removed]",
      "text/plain": [
       "<Figure size 360x360 with 1 Axes>"
      ]
     },
     "metadata": {},
     "output_type": "display_data"
    }
   ],
   "source": [
    "sns.displot(df['user_dob'])"
   ]
  },
  {
   "cell_type": "markdown",
   "metadata": {},
   "source": [
    "Again, before imputing any values we should clean the data. Considering that people from the early 1900s are most likely not alive anymore and were most likely entered in an attempt of not entering their actual date of birth or due to a systematic error within the database system. Therefore, we will first impute all user birth dates which are lower than 1920 (meanning roughly all users that are older than 100 years) by using a random date following the distribution."
   ]
  },
  {
   "cell_type": "code",
   "execution_count": 112,
   "metadata": {},
   "outputs": [],
   "source": [
    "# get normalized distribution of all user_dob that are higher than 1920\n",
    "vc = df['user_dob'][df['user_dob'].dt.year > 1920].value_counts(normalize=True)\n",
    "# insert random value following the distribution\n",
    "df['user_dob'] = df['user_dob'].apply(lambda x: np.random.choice(vc.index, p=vc.values) if x.year < 1920 else x)"
   ]
  },
  {
   "cell_type": "markdown",
   "metadata": {},
   "source": [
    "We can now impute the missing values using random values following the distribution."
   ]
  },
  {
   "cell_type": "code",
   "execution_count": 113,
   "metadata": {},
   "outputs": [],
   "source": [
    "def impute_na_user_dob(col):\n",
    "    # get normalized distribution \n",
    "    vc = col.value_counts(normalize=True)\n",
    "    # fill na values wih randomized values following the distribution\n",
    "    return np.random.choice(vc.index, p=vc.values, size=col.isna().sum()) "
   ]
  },
  {
   "cell_type": "code",
   "execution_count": 114,
   "metadata": {},
   "outputs": [],
   "source": [
    "df.loc[df['user_dob'].isna(), 'user_dob'] = impute_na_user_dob(df['user_dob'])"
   ]
  },
  {
   "cell_type": "code",
   "execution_count": 115,
   "metadata": {},
   "outputs": [],
   "source": [
    "df_unknown.loc[df_unknown['user_dob'].isna(), 'user_dob'] = impute_na_user_dob(df_unknown['user_dob'])"
   ]
  },
  {
   "cell_type": "code",
   "execution_count": 116,
   "metadata": {},
   "outputs": [
    {
     "data": {
      "text/plain": [
       "<seaborn.axisgrid.FacetGrid at 0x7fbd413a1a60>"
      ]
     },
     "execution_count": 116,
     "metadata": {},
     "output_type": "execute_result"
    },
    {
     "data": {
      "image/png": "[encoded data removed]",
      "text/plain": [
       "<Figure size 360x360 with 1 Axes>"
      ]
     },
     "metadata": {},
     "output_type": "display_data"
    }
   ],
   "source": [
    "sns.displot(df['user_dob'])"
   ]
  },
  {
   "cell_type": "markdown",
   "metadata": {},
   "source": [
    "There are still some outliers in the distribution, however we decided to keep them in, since a lot of information on the younger birth dates would be lost, only keeping information on users which are roughly 30 years old. "
   ]
  },
  {
   "cell_type": "code",
   "execution_count": 117,
   "metadata": {},
   "outputs": [
    {
     "name": "stdout",
     "output_type": "stream",
     "text": [
      "0\n",
      "0\n"
     ]
    }
   ],
   "source": [
    "# check if there are no missing values\n",
    "print (df.isnull().sum().sum())\n",
    "print( df_unknown.isnull().sum().sum())"
   ]
  },
  {
   "cell_type": "markdown",
   "metadata": {},
   "source": [
    "## 3. Outliers and Invalid Values\n",
    "<a id='outliers_invalid'></a>\n",
    "In this chapter we will go through all features and correct potential outliers and invalid values."
   ]
  },
  {
   "cell_type": "markdown",
   "metadata": {},
   "source": [
    "### 3.1 `Item_price`\n",
    "<a id ='item_price'></a>"
   ]
  },
  {
   "cell_type": "code",
   "execution_count": 118,
   "metadata": {
    "scrolled": true
   },
   "outputs": [
    {
     "data": {
      "text/plain": [
       "count    100000.000000\n",
       "mean         65.111557\n",
       "std          47.989960\n",
       "min           0.000000\n",
       "25%          29.900000\n",
       "50%          49.900002\n",
       "75%          79.900002\n",
       "max         999.000000\n",
       "Name: item_price, dtype: float64"
      ]
     },
     "execution_count": 118,
     "metadata": {},
     "output_type": "execute_result"
    }
   ],
   "source": [
    "df['item_price'].describe()"
   ]
  },
  {
   "cell_type": "code",
   "execution_count": 119,
   "metadata": {
    "scrolled": true
   },
   "outputs": [
    {
     "data": {
      "image/png": "[encoded data removed]",
      "text/plain": [
       "<Figure size 720x360 with 2 Axes>"
      ]
     },
     "metadata": {},
     "output_type": "display_data"
    }
   ],
   "source": [
    "fig,axes = plt.subplots(1,2, figsize=(10,5))\n",
    "sns.boxplot(df['item_price'],ax=axes[0])\n",
    "axes[0].set_title('Known Data Item_price dist')\n",
    "sns.boxplot(df_unknown['item_price'],ax = axes[1])\n",
    "axes[1].set_title('Unknown Data Item_price dist')\n",
    "plt.tight_layout()"
   ]
  },
  {
   "cell_type": "markdown",
   "metadata": {},
   "source": [
    "Above one can see that there are some outliers on the upper end of the spectrum, even ranging up to 999€. Since our model evalation depends on the `item_price` to calculate the cost associated with wrongly classifiying an order, we will not cap any outliers since this would distort the data too much."
   ]
  },
  {
   "cell_type": "markdown",
   "metadata": {},
   "source": [
    "### 3.2 Categorical Data\n",
    "<a id=\"categorical\"></a>"
   ]
  },
  {
   "cell_type": "markdown",
   "metadata": {},
   "source": [
    "#### 3.2.1 `item_color`\n",
    "<a id=\"item_color\"></a>"
   ]
  },
  {
   "cell_type": "code",
   "execution_count": 120,
   "metadata": {},
   "outputs": [
    {
     "name": "stdout",
     "output_type": "stream",
     "text": [
      "CategoricalIndex(['black', 'brown', 'red', 'grey', 'blue', 'green', 'petrol', 'anthracite', 'purple', 'mocca', 'berry', 'aubergine', 'white', 'olive', 'dark denim', 'stained', 'ocher', 'turquoise', 'pink', 'ash', 'beige', 'nature', 'pallid', 'bordeaux', 'aquamarine', 'denim', 'coral', 'basalt', 'navy', 'orange', 'yellow', 'mahagoni', 'blau', 'magenta', 'ancient', 'khaki', 'cognac', 'striped', 'dark navy', 'azure', 'curry', 'floral', '?', 'dark oliv', 'ivory', 'silver', 'ecru', 'habana', 'dark garnet', 'darkblue', 'fuchsia', 'terracotta', 'hibiscus', 'jade', 'mango', 'brwon', 'antique pink', 'champagner', 'cobalt blue', 'creme', 'kanel', 'almond', 'copper coin', 'aqua', 'aviator', 'gold', 'ebony'], categories=['?', 'almond', 'ancient', 'anthracite', 'antique pink', 'aqua', 'aquamarine', 'ash', ...], ordered=False, dtype='category')\n"
     ]
    }
   ],
   "source": [
    "print_full(df_unknown['item_color'].value_counts().index)"
   ]
  },
  {
   "cell_type": "code",
   "execution_count": 121,
   "metadata": {
    "scrolled": true
   },
   "outputs": [
    {
     "name": "stdout",
     "output_type": "stream",
     "text": [
      "CategoricalIndex(['black', 'brown', 'red', 'grey', 'blue', 'green', 'petrol', 'anthracite', 'purple', 'mocca', 'berry', 'aubergine', 'white', 'olive', 'dark denim', 'stained', 'ocher', 'turquoise', 'pink', 'ash', 'beige', 'nature', 'pallid', 'bordeaux', 'aquamarine', 'denim', 'coral', 'basalt', 'navy', 'orange', 'yellow', 'mahagoni', 'blau', 'magenta', 'ancient', 'khaki', 'cognac', 'striped', 'dark navy', 'azure', 'curry', 'floral', '?', 'dark oliv', 'ivory', 'silver', 'ecru', 'habana', 'dark garnet', 'darkblue', 'fuchsia', 'terracotta', 'hibiscus', 'jade', 'mango', 'brwon', 'antique pink', 'champagner', 'cobalt blue', 'creme', 'kanel', 'almond', 'copper coin', 'aqua', 'aviator', 'gold', 'ebony'], categories=['?', 'almond', 'ancient', 'anthracite', 'antique pink', 'aqua', 'aquamarine', 'ash', ...], ordered=False, dtype='category')\n"
     ]
    }
   ],
   "source": [
    "print_full(df_unknown['item_color'].value_counts().index)"
   ]
  },
  {
   "cell_type": "markdown",
   "metadata": {},
   "source": [
    "When looking at the category leveles we spot some spelling mistakes which we will correct below. Additionally we will change the value of '?' to 'undefined' to be more descriptive."
   ]
  },
  {
   "cell_type": "code",
   "execution_count": 122,
   "metadata": {},
   "outputs": [],
   "source": [
    "# dict of spelling mistakes to correct\n",
    "colors_spelling_mistakes = {\n",
    "  'brwn' : 'brown', \n",
    "  'blau' : 'blue',\n",
    "  '?': 'undefined' \n",
    "}\n",
    "#fix spelling mistakes for both datasets\n",
    "df['item_color'] = fix_spelling_mistakes(df['item_color'], colors_spelling_mistakes)\n",
    "df_unknown['item_color'] = fix_spelling_mistakes(df_unknown['item_color'],colors_spelling_mistakes)"
   ]
  },
  {
   "cell_type": "markdown",
   "metadata": {},
   "source": [
    "Some algorithms cannot perform when the category levels between the known and the unknown data set are different. Therefore, we will unify the category levels."
   ]
  },
  {
   "cell_type": "code",
   "execution_count": 123,
   "metadata": {},
   "outputs": [
    {
     "name": "stdout",
     "output_type": "stream",
     "text": [
      "Number of different Category Levels between datasets: 10\n"
     ]
    },
    {
     "data": {
      "text/plain": [
       "['curled',\n",
       " 'opal',\n",
       " 'currant purple',\n",
       " 'mint',\n",
       " 'baltic blue',\n",
       " 'dark grey',\n",
       " 'caramel',\n",
       " 'apricot',\n",
       " 'avocado',\n",
       " 'amethyst']"
      ]
     },
     "execution_count": 123,
     "metadata": {},
     "output_type": "execute_result"
    }
   ],
   "source": [
    "get_category_level_diffs([df['item_color'], df_unknown['item_color']])"
   ]
  },
  {
   "cell_type": "code",
   "execution_count": 124,
   "metadata": {},
   "outputs": [
    {
     "name": "stdout",
     "output_type": "stream",
     "text": [
      "Number of different Category Levels between datasets: 10\n",
      "Series 1: values unified\n",
      "Number of rows with diff category level: 247\n",
      "Series 2: values unified\n",
      "Number of rows with diff category level: 0\n"
     ]
    }
   ],
   "source": [
    "df['item_color'], df_unknown['item_color'] = unify_cat_levels([df['item_color'], df_unknown['item_color']])"
   ]
  },
  {
   "cell_type": "markdown",
   "metadata": {},
   "source": [
    "#### 3.2.2 `item_size`\n",
    "<a id=\"item_size\"></a>"
   ]
  },
  {
   "cell_type": "code",
   "execution_count": 125,
   "metadata": {},
   "outputs": [
    {
     "data": {
      "text/plain": [
       "l       12347\n",
       "xl      10979\n",
       "m       10190\n",
       "xxl      8966\n",
       "40       7693\n",
       "        ...  \n",
       "84          1\n",
       "105         1\n",
       "3634        1\n",
       "4034        1\n",
       "49          1\n",
       "Name: item_size, Length: 102, dtype: int64"
      ]
     },
     "execution_count": 125,
     "metadata": {},
     "output_type": "execute_result"
    }
   ],
   "source": [
    "df['item_size'].value_counts()"
   ]
  },
  {
   "cell_type": "code",
   "execution_count": 126,
   "metadata": {},
   "outputs": [
    {
     "data": {
      "text/plain": [
       "unsized    4049\n",
       "40         3927\n",
       "L          3391\n",
       "l          2910\n",
       "XL         2839\n",
       "           ... \n",
       "100           2\n",
       "12+           2\n",
       "4232          1\n",
       "110           1\n",
       "95            1\n",
       "Name: item_size, Length: 103, dtype: int64"
      ]
     },
     "execution_count": 126,
     "metadata": {},
     "output_type": "execute_result"
    }
   ],
   "source": [
    "df_unknown['item_size'].value_counts()"
   ]
  },
  {
   "cell_type": "markdown",
   "metadata": {},
   "source": [
    "As already discussed above in `item_color`, we will have to unify category levels. Also some category levels are uppercased/undercased in our two dataset. Luckily `unify_cat_levels()` also takes care of that by lowercasing all values."
   ]
  },
  {
   "cell_type": "code",
   "execution_count": 127,
   "metadata": {
    "scrolled": true
   },
   "outputs": [
    {
     "name": "stdout",
     "output_type": "stream",
     "text": [
      "Number of different Category Levels between datasets: 14\n",
      "Series 1: values unified\n",
      "Number of rows with diff category level: 16\n",
      "Series 2: values unified\n",
      "Number of rows with diff category level: 6\n"
     ]
    }
   ],
   "source": [
    "df['item_size'], df_unknown['item_size'] = unify_cat_levels([df['item_size'], df_unknown['item_size']])"
   ]
  },
  {
   "cell_type": "markdown",
   "metadata": {},
   "source": [
    "#### 3.2.3 `user_title`\n",
    "<a id=\"user_title\"></a>\n",
    "The category levels of `user_title` seem to be in sync."
   ]
  },
  {
   "cell_type": "code",
   "execution_count": 128,
   "metadata": {
    "scrolled": true
   },
   "outputs": [
    {
     "data": {
      "text/plain": [
       "Mrs             95429\n",
       "Mr               3915\n",
       "Family            414\n",
       "Company           128\n",
       "not reported      114\n",
       "Name: user_title, dtype: int64"
      ]
     },
     "execution_count": 128,
     "metadata": {},
     "output_type": "execute_result"
    }
   ],
   "source": [
    "df['user_title'].value_counts()"
   ]
  },
  {
   "cell_type": "code",
   "execution_count": 129,
   "metadata": {},
   "outputs": [
    {
     "data": {
      "text/plain": [
       "Mrs             47969\n",
       "Mr               1819\n",
       "Family            181\n",
       "not reported       20\n",
       "Company            11\n",
       "Name: user_title, dtype: int64"
      ]
     },
     "execution_count": 129,
     "metadata": {},
     "output_type": "execute_result"
    }
   ],
   "source": [
    "df_unknown['user_title'].value_counts()"
   ]
  },
  {
   "cell_type": "markdown",
   "metadata": {},
   "source": [
    "#### 3.2.4 Other Categorical Features\n",
    "- `user_state` --> No differences in category levels\n",
    "- `item_id` --> Differences in category levels, but needed for future Feature Engineering steps\n",
    "- `brand_id` --> Differences in category levels, but needed for future Feature Engineering steps\n",
    "\n",
    "`user_id`'s are too different in both datasets to be considered a useful feature, see below:"
   ]
  },
  {
   "cell_type": "code",
   "execution_count": 130,
   "metadata": {},
   "outputs": [
    {
     "name": "stdout",
     "output_type": "stream",
     "text": [
      "Number of different Category Levels between datasets: 23559\n",
      "Series 1: values unified\n",
      "Number of rows with diff category level: 70575\n",
      "Series 2: values unified\n",
      "Number of rows with diff category level: 32245\n"
     ]
    }
   ],
   "source": [
    "user_ids_unified, user_ids_unknown_unified = unify_cat_levels([df['user_id'], df_unknown['user_id']])"
   ]
  },
  {
   "cell_type": "markdown",
   "metadata": {},
   "source": [
    "### 3.3 Datetime values\n",
    "<a id=\"datetime\"></a>\n",
    "First, we should check if there are any instances of a `delivery_date` occuring **before** the `order_date`."
   ]
  },
  {
   "cell_type": "code",
   "execution_count": 131,
   "metadata": {},
   "outputs": [],
   "source": [
    "for index, row in df[['order_date', 'delivery_date']].iterrows():\n",
    "    if row['delivery_date'] < row ['order_date']:\n",
    "        print('Found one at index', index)"
   ]
  },
  {
   "cell_type": "code",
   "execution_count": 132,
   "metadata": {},
   "outputs": [],
   "source": [
    "for index, row in df_unknown[['order_date', 'delivery_date']].iterrows():\n",
    "    if row['delivery_date'] < row ['order_date']:\n",
    "        print('Found one at index', index)"
   ]
  },
  {
   "cell_type": "markdown",
   "metadata": {},
   "source": [
    "This doesen't seem to be the case, tested with both datasets.\n",
    "There are some entries which have the same `delivery_date` and `order_date`. However same-day-delivery is a possible explanation for this. Since we do not know more about the e-commerce shop, we will leave the values as they are."
   ]
  },
  {
   "cell_type": "markdown",
   "metadata": {},
   "source": [
    "Next, we do the same with `order_date` and `user_reg_date`."
   ]
  },
  {
   "cell_type": "code",
   "execution_count": 133,
   "metadata": {},
   "outputs": [
    {
     "name": "stdout",
     "output_type": "stream",
     "text": [
      "20255\n"
     ]
    }
   ],
   "source": [
    "number_of_users_ordered_before_registered = 0\n",
    "for index, row in df[['user_reg_date', 'order_date']].iterrows():\n",
    "    if row['user_reg_date'] > row ['order_date']:\n",
    "        number_of_users_ordered_before_registered+=1\n",
    "        \n",
    "print(number_of_users_ordered_before_registered)"
   ]
  },
  {
   "cell_type": "markdown",
   "metadata": {},
   "source": [
    "Here we have over 20000 cases in which a user was registered after an order has been made. This is often the case if ecommerce shops allow for ordering without registering. We can use this information later on in the feature enigineering step."
   ]
  },
  {
   "cell_type": "markdown",
   "metadata": {},
   "source": [
    "## 4. Export Cleaned Data \n",
    "<a id=\"export\"></a>\n",
    "At the end of each notebook we will export the dataframes in a `.pkl` format. This format also saves all dtypes we assigned to each column, making it easier to load and work with in different notebooks."
   ]
  },
  {
   "cell_type": "code",
   "execution_count": 134,
   "metadata": {},
   "outputs": [],
   "source": [
    "# Somewhere Dtypes have been changed..\n",
    "df = changeDtypes(df)\n",
    "df_unknown = changeDtypes(df_unknown)"
   ]
  },
  {
   "cell_type": "code",
   "execution_count": 135,
   "metadata": {},
   "outputs": [
    {
     "name": "stdout",
     "output_type": "stream",
     "text": [
      "\n",
      "================================> KOWN DF <=====================================\n",
      "<class 'pandas.core.frame.DataFrame'>\n",
      "Int64Index: 100000 entries, 100001 to 200000\n",
      "Data columns (total 13 columns):\n",
      " #   Column         Non-Null Count   Dtype         \n",
      "---  ------         --------------   -----         \n",
      " 0   order_date     100000 non-null  datetime64[ns]\n",
      " 1   delivery_date  100000 non-null  datetime64[ns]\n",
      " 2   item_id        100000 non-null  category      \n",
      " 3   item_size      100000 non-null  category      \n",
      " 4   item_color     100000 non-null  category      \n",
      " 5   brand_id       100000 non-null  category      \n",
      " 6   item_price     100000 non-null  float32       \n",
      " 7   user_id        100000 non-null  category      \n",
      " 8   user_title     100000 non-null  category      \n",
      " 9   user_dob       100000 non-null  datetime64[ns]\n",
      " 10  user_state     100000 non-null  category      \n",
      " 11  user_reg_date  100000 non-null  datetime64[ns]\n",
      " 12  return         100000 non-null  int64         \n",
      "dtypes: category(7), datetime64[ns](4), float32(1), int64(1)\n",
      "memory usage: 6.8 MB\n",
      "\n",
      "================================> UNKOWN DF <=====================================\n",
      "<class 'pandas.core.frame.DataFrame'>\n",
      "Int64Index: 50000 entries, 100001 to 150000\n",
      "Data columns (total 12 columns):\n",
      " #   Column         Non-Null Count  Dtype         \n",
      "---  ------         --------------  -----         \n",
      " 0   order_date     50000 non-null  datetime64[ns]\n",
      " 1   delivery_date  50000 non-null  datetime64[ns]\n",
      " 2   item_id        50000 non-null  category      \n",
      " 3   item_size      50000 non-null  category      \n",
      " 4   item_color     50000 non-null  category      \n",
      " 5   brand_id       50000 non-null  category      \n",
      " 6   item_price     50000 non-null  float32       \n",
      " 7   user_id        50000 non-null  category      \n",
      " 8   user_title     50000 non-null  category      \n",
      " 9   user_dob       50000 non-null  datetime64[ns]\n",
      " 10  user_state     50000 non-null  category      \n",
      " 11  user_reg_date  50000 non-null  datetime64[ns]\n",
      "dtypes: category(7), datetime64[ns](4), float32(1)\n",
      "memory usage: 3.3 MB\n"
     ]
    }
   ],
   "source": [
    "# Sanity check\n",
    "print('\\n================================> KOWN DF <=====================================')\n",
    "df.info()\n",
    "print('\\n================================> UNKOWN DF <=====================================')\n",
    "df_unknown.info()"
   ]
  },
  {
   "cell_type": "code",
   "execution_count": 136,
   "metadata": {},
   "outputs": [],
   "source": [
    "df.to_pickle('../data/02_intermediate/BADS_WS2021_known_cleaned.pkl')\n",
    "df_unknown.to_pickle('../data/02_intermediate/BADS_WS2021_unknown_cleaned.pkl')"
   ]
  }
 ],
 "metadata": {
  "kernelspec": {
   "display_name": "Python 3",
   "language": "python",
   "name": "python3"
  },
  "language_info": {
   "codemirror_mode": {
    "name": "ipython",
    "version": 3
   },
   "file_extension": ".py",
   "mimetype": "text/x-python",
   "name": "python",
   "nbconvert_exporter": "python",
   "pygments_lexer": "ipython3",
   "version": "3.8.5"
  }
 },
 "nbformat": 4,
 "nbformat_minor": 5
}
