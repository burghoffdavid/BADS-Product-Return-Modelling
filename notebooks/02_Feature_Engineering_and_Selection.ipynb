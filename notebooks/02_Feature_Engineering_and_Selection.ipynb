{
 "cells": [
  {
   "cell_type": "markdown",
   "metadata": {},
   "source": [
    "# Feature Engineering and Selection"
   ]
  },
  {
   "cell_type": "markdown",
   "metadata": {},
   "source": [
    "## Table of Contents\n",
    "* [1.Import cleaned Data](#import_data)\n",
    "* [2.Feature Engineering](#feat_eng)\n",
    "    * [2.1  `order_week_day`](#order_weekday)\n",
    "    * [2.2 `delivery_days`](#delivery_days)\n",
    "    * [2.2 User specific features](#user_feat)\n",
    "        * [ 3.2.1 `user_account_age`](#user_account_age)\n",
    "        * [ 3.2.2 `user_age`](#user_age)\n",
    "        * [ 3.2.2 `total_orders_by_user`](#total_orders_by_user)\n",
    "        * [ 3.2.2 `has_bought_item_before`](#has_bought_item_before)\n",
    "        * [ 3.2.2 `is_first_purchase`](#is_first_purchase)\n",
    "        * [ 3.2.2 `number_of_items_in_order`](#number_of_items_in_order)\n",
    "        * [ 3.2.2 `ordered_item_multiple_times_in_order`](#ordered_item_multiple_times_in_order)\n",
    "* [3.Feature Selection](#feat_select)\n",
    "    * [3.1  Unify `item_id` and `brand_id` Category Levels ](#unify)\n",
    "    * [3.2  Binning ](#binning)\n",
    "* [4. Save Processed Data](#export)\n",
    "        \n"
   ]
  },
  {
   "cell_type": "code",
   "execution_count": 149,
   "metadata": {},
   "outputs": [],
   "source": [
    "# Required Packages\n",
    "#DS Packages\n",
    "import pandas as pd\n",
    "import numpy as np\n",
    "\n",
    "#Utils\n",
    "from dateutil.relativedelta import relativedelta\n",
    "from datetime import datetime\n",
    "import json \n",
    "\n",
    "#Data Viualization\n",
    "import seaborn as sns\n",
    "import matplotlib.pyplot as plt\n",
    "\n",
    "# always display plots inline \n",
    "%matplotlib inline \n",
    "sns.set(style='darkgrid')\n",
    "\n",
    "#Random Seed Constant\n",
    "random_seed = 420\n",
    "\n",
    "#set numpy random seed \n",
    "np.random.seed(random_seed)\n",
    "\n",
    "#ignore warnings\n",
    "import warnings\n",
    "warnings.filterwarnings('ignore')\n",
    "\n",
    "plt.rcParams[\"figure.figsize\"] = (12,4)\n",
    "\n",
    "#Custom Imports\n",
    "import os\n",
    "import sys\n",
    "from pathlib import Path\n",
    "paths = [str(Path.cwd().parents[0] / \"src/d00_utils\"), str(Path.cwd().parents[0] / \"src/d01_data\")]\n",
    "for module_path in paths:\n",
    "    if module_path not in sys.path:\n",
    "        sys.path.append(module_path)\n",
    "\n",
    "# Import custom utility functions\n",
    "from utility import print_full, make_lowercase, fix_spelling_mistakes\n",
    "    \n",
    "# Import custom Data Cleaning functions \n",
    "from data_cleaning import cap_outliers, unify_cat_levels, get_category_level_diffs\n"
   ]
  },
  {
   "cell_type": "markdown",
   "metadata": {},
   "source": [
    "## 1. Import Cleaned Data\n",
    "<a id=\"import_data\"></a>"
   ]
  },
  {
   "cell_type": "code",
   "execution_count": 150,
   "metadata": {},
   "outputs": [],
   "source": [
    "df = pd.read_pickle('../data/02_intermediate/BADS_WS2021_known_cleaned.pkl')\n",
    "df_unknown = pd.read_pickle('../data/02_intermediate/BADS_WS2021_unknown_cleaned.pkl')"
   ]
  },
  {
   "cell_type": "code",
   "execution_count": 151,
   "metadata": {},
   "outputs": [
    {
     "name": "stdout",
     "output_type": "stream",
     "text": [
      "<class 'pandas.core.frame.DataFrame'>\n",
      "Int64Index: 100000 entries, 100001 to 200000\n",
      "Data columns (total 13 columns):\n",
      " #   Column         Non-Null Count   Dtype         \n",
      "---  ------         --------------   -----         \n",
      " 0   order_date     100000 non-null  datetime64[ns]\n",
      " 1   delivery_date  100000 non-null  datetime64[ns]\n",
      " 2   item_id        100000 non-null  category      \n",
      " 3   item_size      100000 non-null  category      \n",
      " 4   item_color     100000 non-null  category      \n",
      " 5   brand_id       100000 non-null  category      \n",
      " 6   item_price     100000 non-null  float32       \n",
      " 7   user_id        100000 non-null  category      \n",
      " 8   user_title     100000 non-null  category      \n",
      " 9   user_dob       100000 non-null  datetime64[ns]\n",
      " 10  user_state     100000 non-null  category      \n",
      " 11  user_reg_date  100000 non-null  datetime64[ns]\n",
      " 12  return         100000 non-null  int64         \n",
      "dtypes: category(7), datetime64[ns](4), float32(1), int64(1)\n",
      "memory usage: 6.1 MB\n"
     ]
    }
   ],
   "source": [
    "df.info()"
   ]
  },
  {
   "cell_type": "markdown",
   "metadata": {},
   "source": [
    "## 2. Feature Engineering\n",
    "<a id=\"feat_eng\"></a>\n",
    "In this section we will engineer several features. "
   ]
  },
  {
   "cell_type": "markdown",
   "metadata": {},
   "source": [
    "### 2.1 Order Week Day\n",
    "<a id=\"order_weekday\"></a>\n",
    "Since we have the `order_date`, we can simply calculate the week day an order was placed."
   ]
  },
  {
   "cell_type": "code",
   "execution_count": 152,
   "metadata": {},
   "outputs": [],
   "source": [
    "def calc_week_days(_df):\n",
    "    weekDays = (\"Mon\",\"Tue\",\"Wed\",\"Thu\",\"Fri\",\"Sat\",\"Sun\")\n",
    "    _df['order_weekday'] = _df['order_date'].map(datetime.weekday)\n",
    "    _df['order_weekday'] = _df['order_weekday'].apply(lambda x: weekDays[x])\n",
    "    _df['order_weekday'] = _df['order_weekday'].astype('category')\n",
    "    return _df"
   ]
  },
  {
   "cell_type": "code",
   "execution_count": 153,
   "metadata": {},
   "outputs": [],
   "source": [
    "df = calc_week_days(df)\n",
    "df_unknown = calc_week_days(df_unknown)"
   ]
  },
  {
   "cell_type": "markdown",
   "metadata": {},
   "source": [
    "### 2.2 Days till delivery\n",
    "Another interesting feature might be the number of days it took for an order to arrive. Thus we will calculate the `delivery_days` by substracting the `order_date` from the `delivery_date`."
   ]
  },
  {
   "cell_type": "code",
   "execution_count": 154,
   "metadata": {},
   "outputs": [],
   "source": [
    "def calc_delivery_days(_df):\n",
    "    delivery_days = _df.apply(lambda x: relativedelta(x['delivery_date'], x['order_date']).days, axis = 1)\n",
    "    delivery_days = cap_outliers(delivery_days,verbose=True)\n",
    "    delivery_days = delivery_days.astype(int)\n",
    "    return delivery_days"
   ]
  },
  {
   "cell_type": "code",
   "execution_count": 155,
   "metadata": {},
   "outputs": [
    {
     "name": "stdout",
     "output_type": "stream",
     "text": [
      "  Number of outliers:100000\n",
      "Capping outliers by the IQR method:\n",
      "   IQR threshold: 1.5\n",
      "   Lower bound: -1.0\n",
      "   Upper bound: 7.0\n",
      "\n",
      "  Number of outliers:50000\n",
      "Capping outliers by the IQR method:\n",
      "   IQR threshold: 1.5\n",
      "   Lower bound: -2.5\n",
      "   Upper bound: 9.5\n",
      "\n"
     ]
    }
   ],
   "source": [
    "df['delivery_days'] = calc_delivery_days(df)\n",
    "df_unknown['delivery_days'] = calc_delivery_days(df_unknown)"
   ]
  },
  {
   "cell_type": "code",
   "execution_count": 156,
   "metadata": {
    "scrolled": true
   },
   "outputs": [
    {
     "data": {
      "text/plain": [
       "<AxesSubplot:>"
      ]
     },
     "execution_count": 156,
     "metadata": {},
     "output_type": "execute_result"
    },
    {
     "data": {
      "image/png": "[encoded data removed]",
      "text/plain": [
       "<Figure size 864x288 with 1 Axes>"
      ]
     },
     "metadata": {},
     "output_type": "display_data"
    }
   ],
   "source": [
    "sns.barplot(x = df['delivery_days'].value_counts().index, y = df['delivery_days'].value_counts().values)"
   ]
  },
  {
   "cell_type": "markdown",
   "metadata": {},
   "source": [
    "### 2.3 User specific Features\n",
    "<a id=\"user_feat\"></a>\n",
    "Early visualization showed that the `user_id` might have an reasonable impact on wether or not an order will be returned. However, since the `user_id` differs for the known and unknown data set, we can not simply use the id as a feature. Therefore, we will have to engineer several features that are independent from the id itself.\n",
    "\n",
    "In order to speed up the performance of the following functions, we first create a *dictionary* where each `user_id` gets assigned its corresponding unique *dataframe*."
   ]
  },
  {
   "cell_type": "code",
   "execution_count": 157,
   "metadata": {},
   "outputs": [],
   "source": [
    "user_known_dfs = {}\n",
    "user_unknown_dfs = {}\n",
    "for user_id in sorted(df['user_id'].unique()):\n",
    "    user_df =  df.loc[df['user_id'] == user_id]\n",
    "    user_known_dfs[user_id] = user_df\n",
    "for user_id in sorted(df_unknown['user_id'].unique()):\n",
    "    user_df =  df_unknown.loc[df_unknown['user_id'] == user_id]\n",
    "    user_unknown_dfs[user_id] = user_df"
   ]
  },
  {
   "cell_type": "markdown",
   "metadata": {},
   "source": [
    "#### 2.3.1 User account age at the time the order was placed\n",
    "<a id=\"user_account_age\"></a>"
   ]
  },
  {
   "cell_type": "markdown",
   "metadata": {},
   "source": [
    "When cleaning the data we saw that many users ordered something before they registered for an account. Therefore, we will add an user_account_age in days where negative numbers indicate how many days after the order the user was registered. "
   ]
  },
  {
   "cell_type": "code",
   "execution_count": 158,
   "metadata": {},
   "outputs": [],
   "source": [
    "def calc_user_account_age(_df):\n",
    "    user_account_age_ser = _df.apply(lambda x: (x['order_date'] - x['user_reg_date']).days, axis = 1)\n",
    "    user_account_age_ser = cap_outliers(user_account_age_ser, verbose=True)\n",
    "    user_account_age_ser = user_account_age_ser.astype(int)\n",
    "    return user_account_age_ser"
   ]
  },
  {
   "cell_type": "code",
   "execution_count": 159,
   "metadata": {
    "scrolled": false
   },
   "outputs": [
    {
     "name": "stdout",
     "output_type": "stream",
     "text": [
      "  Number of outliers:100000\n",
      "Capping outliers by the IQR method:\n",
      "   IQR threshold: 1.5\n",
      "   Lower bound: -697.0\n",
      "   Upper bound: 1223.0\n",
      "\n",
      "  Number of outliers:50000\n",
      "Capping outliers by the IQR method:\n",
      "   IQR threshold: 1.5\n",
      "   Lower bound: -878.0\n",
      "   Upper bound: 1506.0\n",
      "\n"
     ]
    }
   ],
   "source": [
    "df['user_account_age'] = calc_user_account_age(df)\n",
    "df_unknown['user_account_age'] = calc_user_account_age(df_unknown)"
   ]
  },
  {
   "cell_type": "code",
   "execution_count": 160,
   "metadata": {},
   "outputs": [
    {
     "data": {
      "text/plain": [
       "<seaborn.axisgrid.FacetGrid at 0x7fd5a963cfd0>"
      ]
     },
     "execution_count": 160,
     "metadata": {},
     "output_type": "execute_result"
    },
    {
     "data": {
      "image/png": "[encoded data removed]",
      "text/plain": [
       "<Figure size 360x360 with 1 Axes>"
      ]
     },
     "metadata": {},
     "output_type": "display_data"
    }
   ],
   "source": [
    "sns.displot(df['user_account_age'])"
   ]
  },
  {
   "cell_type": "markdown",
   "metadata": {},
   "source": [
    "#### 2.3.2 User Age\n",
    "<a id=\"user_age\"></a>\n",
    "Another interesting feature might be the age of an user at the time an order was placed. We simply substract the `user_dob` from the `order_date` and divide it by 365 to receive an user's age in years."
   ]
  },
  {
   "cell_type": "code",
   "execution_count": 161,
   "metadata": {},
   "outputs": [],
   "source": [
    "def calc_user_age(_df):\n",
    "    # claculate age based on time of order\n",
    "    user_age =_df.apply(lambda x: (x['order_date'] - x['user_dob']).days/365, axis = 1)\n",
    "    user_age = user_age.astype(int)\n",
    "    user_age = cap_outliers(user_age,verbose=True)\n",
    "    return user_age"
   ]
  },
  {
   "cell_type": "code",
   "execution_count": 162,
   "metadata": {},
   "outputs": [
    {
     "name": "stdout",
     "output_type": "stream",
     "text": [
      "  Number of outliers:100000\n",
      "Capping outliers by the IQR method:\n",
      "   IQR threshold: 1.5\n",
      "   Lower bound: 31.0\n",
      "   Upper bound: 71.0\n",
      "\n",
      "  Number of outliers:50000\n",
      "Capping outliers by the IQR method:\n",
      "   IQR threshold: 1.5\n",
      "   Lower bound: 29.5\n",
      "   Upper bound: 73.5\n",
      "\n"
     ]
    }
   ],
   "source": [
    "df['user_age'] = calc_user_age(df)\n",
    "df_unknown['user_age'] = calc_user_age(df_unknown)"
   ]
  },
  {
   "cell_type": "code",
   "execution_count": 163,
   "metadata": {},
   "outputs": [
    {
     "data": {
      "text/plain": [
       "<seaborn.axisgrid.FacetGrid at 0x7fd5cd135af0>"
      ]
     },
     "execution_count": 163,
     "metadata": {},
     "output_type": "execute_result"
    },
    {
     "data": {
      "image/png": "[encoded data removed]",
      "text/plain": [
       "<Figure size 360x360 with 1 Axes>"
      ]
     },
     "metadata": {},
     "output_type": "display_data"
    }
   ],
   "source": [
    "sns.displot(df['user_age'])"
   ]
  },
  {
   "cell_type": "markdown",
   "metadata": {},
   "source": [
    "#### 2.3.3 Number of orders by user at order time\n",
    "<a id=\"total_orders_by_user\"></a>\n",
    "To obtain the number of orders a user has placed at the date of an order we query the user's dataframe by the `user_id` and all `order_date`s that occured before the current date and count the number of rows left."
   ]
  },
  {
   "cell_type": "code",
   "execution_count": 164,
   "metadata": {},
   "outputs": [],
   "source": [
    "def calc_number_of_total_orders_by_user(_df, user_dfs):\n",
    "    total_orders_by_user =_df.apply(\n",
    "        lambda row: user_dfs[row['user_id']]['order_date'].where(\n",
    "            user_dfs[row['user_id']]['order_date'] > row['order_date']).count() , axis = 1)\n",
    "    total_orders_by_user = cap_outliers(total_orders_by_user)\n",
    "    return total_orders_by_user"
   ]
  },
  {
   "cell_type": "code",
   "execution_count": 165,
   "metadata": {},
   "outputs": [],
   "source": [
    "df['total_orders_by_user'] = calc_number_of_total_orders_by_user(df, user_known_dfs)\n",
    "df_unknown['total_orders_by_user'] = calc_number_of_total_orders_by_user(df_unknown, user_unknown_dfs)"
   ]
  },
  {
   "cell_type": "code",
   "execution_count": 166,
   "metadata": {},
   "outputs": [
    {
     "data": {
      "text/plain": [
       "<AxesSubplot:>"
      ]
     },
     "execution_count": 166,
     "metadata": {},
     "output_type": "execute_result"
    },
    {
     "data": {
      "image/png": "[encoded data removed]",
      "text/plain": [
       "<Figure size 864x288 with 1 Axes>"
      ]
     },
     "metadata": {},
     "output_type": "display_data"
    }
   ],
   "source": [
    "sns.barplot(x = df['total_orders_by_user'].value_counts().index, y = df['total_orders_by_user'].value_counts().values)"
   ]
  },
  {
   "cell_type": "code",
   "execution_count": 167,
   "metadata": {
    "scrolled": true
   },
   "outputs": [
    {
     "data": {
      "text/plain": [
       "0    62670\n",
       "5    17010\n",
       "1     7335\n",
       "2     5660\n",
       "3     4108\n",
       "4     3217\n",
       "Name: total_orders_by_user, dtype: int64"
      ]
     },
     "execution_count": 167,
     "metadata": {},
     "output_type": "execute_result"
    }
   ],
   "source": [
    "df['total_orders_by_user'].value_counts()"
   ]
  },
  {
   "cell_type": "markdown",
   "metadata": {},
   "source": [
    "#### 2.3.4 User has bought the same item before\n",
    "<a id=\"has_bought_item_before\"></a>\n",
    "When a user has purchased an item in the past, it is likely that he/she knows that it will fit or that it fulfills his/her needs. Therefore we query the data by the `user_id` and the `item_id` and count the number of rows that are lower than the current `order_date`. If the number is greater than 0, the user has purchased the item before. If it is 0, the user never purchased the item."
   ]
  },
  {
   "cell_type": "code",
   "execution_count": 168,
   "metadata": {},
   "outputs": [],
   "source": [
    "def calc_has_bought_item_before(_df):\n",
    "    has_bought_item_before = _df.apply(\n",
    "        lambda row: len(_df[(_df['user_id'] == row['user_id']) \\\n",
    "                           & (_df['item_id'] == row['item_id']) \\\n",
    "                           & (_df['order_date']<row['order_date'])])!= 0\n",
    "                            , axis=1)\n",
    "    has_bought_item_before = has_bought_item_before.astype(int)\n",
    "    return has_bought_item_before"
   ]
  },
  {
   "cell_type": "code",
   "execution_count": 169,
   "metadata": {},
   "outputs": [],
   "source": [
    "df['has_bought_item_before'] = calc_has_bought_item_before(df)\n",
    "df_unknown['has_bought_item_before'] = calc_has_bought_item_before(df_unknown)"
   ]
  },
  {
   "cell_type": "code",
   "execution_count": 170,
   "metadata": {},
   "outputs": [
    {
     "data": {
      "text/plain": [
       "<AxesSubplot:>"
      ]
     },
     "execution_count": 170,
     "metadata": {},
     "output_type": "execute_result"
    },
    {
     "data": {
      "image/png": "[encoded data removed]",
      "text/plain": [
       "<Figure size 864x288 with 1 Axes>"
      ]
     },
     "metadata": {},
     "output_type": "display_data"
    }
   ],
   "source": [
    "sns.barplot(x = df['has_bought_item_before'].value_counts().index, y = df['has_bought_item_before'].value_counts().values)"
   ]
  },
  {
   "cell_type": "markdown",
   "metadata": {},
   "source": [
    "Only a small percentage of users buy an item that they have bought before. However maybe the return rate in these cases is significantly lower. We will explore this when visualizing the data. "
   ]
  },
  {
   "cell_type": "markdown",
   "metadata": {},
   "source": [
    "#### 2.3.5 User's first purchase\n",
    "<a id=\"is_first_purchase\"></a>\n",
    "To engineer a feature which tells us whether or not an order was the first one a user ever made on our e-commerce platform, we simply query the data by the `user_id` check if the number of rows before the current `order_date` is equal to zero. If it is equal to zero, this is the user's first pruchase, otherwise the user has already made orders before. "
   ]
  },
  {
   "cell_type": "code",
   "execution_count": 171,
   "metadata": {},
   "outputs": [],
   "source": [
    "def calc_is_first_purchase(_df):\n",
    "    number_of_purchases = _df.apply(\n",
    "        lambda row: len(_df[(_df['user_id'] == row['user_id']) \\\n",
    "                         & (_df['order_date']< row['order_date'])]) == 0\n",
    "                        , axis=1)\n",
    "    number_of_purchases = number_of_purchases.astype(int)\n",
    "    return number_of_purchases                                     \n",
    "                                         "
   ]
  },
  {
   "cell_type": "code",
   "execution_count": 172,
   "metadata": {},
   "outputs": [],
   "source": [
    "df['is_first_purchase'] = calc_is_first_purchase(df)\n",
    "df_unknown['is_first_purchase'] = calc_is_first_purchase(df_unknown)"
   ]
  },
  {
   "cell_type": "code",
   "execution_count": 173,
   "metadata": {},
   "outputs": [
    {
     "data": {
      "text/plain": [
       "<AxesSubplot:>"
      ]
     },
     "execution_count": 173,
     "metadata": {},
     "output_type": "execute_result"
    },
    {
     "data": {
      "image/png": "[encoded data removed]",
      "text/plain": [
       "<Figure size 864x288 with 1 Axes>"
      ]
     },
     "metadata": {},
     "output_type": "display_data"
    }
   ],
   "source": [
    "sns.barplot(x = df['is_first_purchase'].value_counts().index, y = df['is_first_purchase'].value_counts().values)"
   ]
  },
  {
   "cell_type": "markdown",
   "metadata": {},
   "source": [
    "Roughly two thirds of all purchases were the user's first purchase in this shop."
   ]
  },
  {
   "cell_type": "markdown",
   "metadata": {},
   "source": [
    "#### 2.3.6 Number of items in order\n",
    "<a id=\"number_of_items_in_order\"></a>\n",
    "While we don't have any direct information on how many items were orderd in one order, we can use the order_date to engineer this feature. While it could happen that a user places multiple orders on one day, one could argue that you could also sum this up to one order (e.g. forgot to order something)"
   ]
  },
  {
   "cell_type": "code",
   "execution_count": 174,
   "metadata": {},
   "outputs": [],
   "source": [
    "def calc_number_of_items_in_order(_df):\n",
    "    number_of_items_in_order = _df.apply(lambda row: len(_df[(_df['user_id'] == row['user_id']) & (_df['order_date'] == row['order_date'])]), axis = 1)\n",
    "    return number_of_items_in_order"
   ]
  },
  {
   "cell_type": "code",
   "execution_count": 175,
   "metadata": {},
   "outputs": [],
   "source": [
    "df['number_of_items_in_order'] = calc_number_of_items_in_order(df)\n",
    "df_unknown['number_of_items_in_order'] = calc_number_of_items_in_order(df_unknown)"
   ]
  },
  {
   "cell_type": "code",
   "execution_count": 176,
   "metadata": {
    "scrolled": true
   },
   "outputs": [
    {
     "data": {
      "text/plain": [
       "<AxesSubplot:>"
      ]
     },
     "execution_count": 176,
     "metadata": {},
     "output_type": "execute_result"
    },
    {
     "data": {
      "image/png": "[encoded data removed]",
      "text/plain": [
       "<Figure size 864x288 with 1 Axes>"
      ]
     },
     "metadata": {},
     "output_type": "display_data"
    }
   ],
   "source": [
    "\n",
    "sns.barplot(x = df['number_of_items_in_order'].value_counts().index, y = df['number_of_items_in_order'].value_counts().values)"
   ]
  },
  {
   "cell_type": "markdown",
   "metadata": {},
   "source": [
    "Most users only buy a couple of items a day when shopping at the online store. We will explore the return rates in correlation to the number of items in an order when visualzing the data."
   ]
  },
  {
   "cell_type": "markdown",
   "metadata": {},
   "source": [
    "#### 2.3.7 Ordered item at least twice in one order\n",
    "<a id=\"ordered_item_multiple_times_in_order\"></a>\n",
    "When shopping for clothes and shoes online, users often order the same item multiple times in different sizes. Therefore, it might be useful to know if the ordered item was bought multiple times within an order. Below for example a user ordered the same item twice in different sizes. It is highly likely that at least one of those items will be sent back."
   ]
  },
  {
   "cell_type": "code",
   "execution_count": 177,
   "metadata": {},
   "outputs": [],
   "source": [
    "def calc_ordered_item_multiple_times_in_order(_df):\n",
    "    ordered_item_multiple_times_in_order = _df.apply(\n",
    "        lambda row: len(_df[(_df['order_date'] == row['order_date']) \\\n",
    "                            &(_df['user_id'] == row['user_id'])\\\n",
    "                            & (_df['item_id'] == row['item_id']) ]) > 1,\n",
    "                            axis = 1)\n",
    "    ordered_item_multiple_times_in_order = ordered_item_multiple_times_in_order.astype(int)\n",
    "    return ordered_item_multiple_times_in_order"
   ]
  },
  {
   "cell_type": "code",
   "execution_count": 178,
   "metadata": {},
   "outputs": [],
   "source": [
    "df['ordered_item_multiple_times_in_order'] = calc_ordered_item_multiple_times_in_order(df)\n",
    "df_unknown['ordered_item_multiple_times_in_order'] = calc_ordered_item_multiple_times_in_order(df_unknown)"
   ]
  },
  {
   "cell_type": "code",
   "execution_count": 179,
   "metadata": {
    "scrolled": true
   },
   "outputs": [
    {
     "data": {
      "text/plain": [
       "<AxesSubplot:>"
      ]
     },
     "execution_count": 179,
     "metadata": {},
     "output_type": "execute_result"
    },
    {
     "data": {
      "image/png": "[encoded data removed]",
      "text/plain": [
       "<Figure size 864x288 with 1 Axes>"
      ]
     },
     "metadata": {},
     "output_type": "display_data"
    }
   ],
   "source": [
    "sns.barplot(x = df['ordered_item_multiple_times_in_order'].value_counts().index,\n",
    "            y = df['ordered_item_multiple_times_in_order'].value_counts().values)"
   ]
  },
  {
   "cell_type": "code",
   "execution_count": 180,
   "metadata": {},
   "outputs": [
    {
     "data": {
      "text/plain": [
       "<AxesSubplot:>"
      ]
     },
     "execution_count": 180,
     "metadata": {},
     "output_type": "execute_result"
    },
    {
     "data": {
      "image/png": "[encoded data removed]",
      "text/plain": [
       "<Figure size 864x288 with 1 Axes>"
      ]
     },
     "metadata": {},
     "output_type": "display_data"
    }
   ],
   "source": [
    "sns.barplot(x = df_unknown['ordered_item_multiple_times_in_order'].value_counts().index,\n",
    "            y = df_unknown['ordered_item_multiple_times_in_order'].value_counts().values)"
   ]
  },
  {
   "cell_type": "markdown",
   "metadata": {},
   "source": [
    "## 3 Feature Selection\n",
    "<a id=\"feat_select\"></a>\n",
    "In this section we will try to come up with new features for independent variables with high cardinality. `item_id` and `brand_id` are a great example, since they have an enourmous number of features. I decided to use a woe binning approach in order to simoultaneously reduce the number of features for the variables while trying to keep most of the information value. \n",
    "I used a fairly new library called  <a href=https://github.com/guillermo-navas-palencia/optbinning>**OptBinning**</a> by *Guillermo Navas Palencia*. This library implements a rigorous and flexible mathematical programming formulation to solve the optimal binning problem for a binary, continuous and multiclass target type. One of its main benefits is that each bin has at least 5% of the total data entries in it, which avoids having bins with only a couple of values.\n"
   ]
  },
  {
   "cell_type": "code",
   "execution_count": 181,
   "metadata": {},
   "outputs": [],
   "source": [
    "from optbinning import OptimalBinning"
   ]
  },
  {
   "cell_type": "markdown",
   "metadata": {},
   "source": [
    "## 3.1 Unify Category Levels"
   ]
  },
  {
   "cell_type": "markdown",
   "metadata": {},
   "source": [
    "Before binnin `item_id` and `brand_id`, we have to make sure that there are no cateogory level differences between the labelled and unlabelled dataset. The reason why we did not unify the category levels before like we did with `item_color` and `item_size` is that we needed the true values for some of previous feature engineering steps."
   ]
  },
  {
   "cell_type": "markdown",
   "metadata": {},
   "source": [
    "### 3.1.1 `item_id`\n",
    "<a id=\"item_id\"></a>"
   ]
  },
  {
   "cell_type": "code",
   "execution_count": 182,
   "metadata": {},
   "outputs": [
    {
     "name": "stdout",
     "output_type": "stream",
     "text": [
      "Number of different Category Levels between datasets: 746\n",
      "Series 1: values unified\n",
      "Number of rows with diff category level: 10491\n",
      "Series 2: values unified\n",
      "Number of rows with diff category level: 1236\n"
     ]
    }
   ],
   "source": [
    "df['item_id'], df_unknown['item_id'] = unify_cat_levels([df['item_id'], df_unknown['item_id']])"
   ]
  },
  {
   "cell_type": "markdown",
   "metadata": {},
   "source": [
    "Here one can see that a lot of `item_id` values present in the known dataset are not in the unknown dataset. If these levels would have been kept in, algorithms could make errors in predictictions since they would assign weights to category levels that are not present in unknown / unlabelled data.  "
   ]
  },
  {
   "cell_type": "markdown",
   "metadata": {},
   "source": [
    "### 3.1.1 `brand_id`\n",
    "<a id=\"brand_id\"></a>\n",
    "As already discussed above in `item_color`, we will have to unify category levels for the `brand_id` values."
   ]
  },
  {
   "cell_type": "code",
   "execution_count": 183,
   "metadata": {},
   "outputs": [
    {
     "name": "stdout",
     "output_type": "stream",
     "text": [
      "Number of different Category Levels between datasets: 17\n",
      "Series 1: values unified\n",
      "Number of rows with diff category level: 105\n",
      "Series 2: values unified\n",
      "Number of rows with diff category level: 1\n"
     ]
    }
   ],
   "source": [
    "df['brand_id'], df_unknown['brand_id'] = unify_cat_levels([df['brand_id'], df_unknown['brand_id']])"
   ]
  },
  {
   "cell_type": "code",
   "execution_count": 189,
   "metadata": {},
   "outputs": [],
   "source": [
    "# change dtype back to category\n",
    "df['brand_id'], df_unknown['brand_id']  = df['brand_id'].astype('category'), df_unknown['brand_id'].astype('category') \n",
    "df['item_id'], df_unknown['item_id']  = df['item_id'].astype('category'), df_unknown['item_id'].astype('category') "
   ]
  },
  {
   "cell_type": "markdown",
   "metadata": {},
   "source": [
    "## 3.2 Optimal Binning"
   ]
  },
  {
   "cell_type": "markdown",
   "metadata": {},
   "source": [
    "To show how this binning technique works, we will try it out on `item_id`:"
   ]
  },
  {
   "cell_type": "code",
   "execution_count": 184,
   "metadata": {},
   "outputs": [],
   "source": [
    "# function that takes in a variable and a target and returns an optp object \n",
    "def optimal_binning(col, y ):\n",
    "    optb = OptimalBinning(dtype='categorical', solver='cp', max_n_prebins = 80)\n",
    "    optb.fit(col.values, y.values)\n",
    "    return optb"
   ]
  },
  {
   "cell_type": "code",
   "execution_count": 191,
   "metadata": {
    "scrolled": false
   },
   "outputs": [
    {
     "data": {
      "text/html": [
       "<div>\n",
       "<style scoped>\n",
       "    .dataframe tbody tr th:only-of-type {\n",
       "        vertical-align: middle;\n",
       "    }\n",
       "\n",
       "    .dataframe tbody tr th {\n",
       "        vertical-align: top;\n",
       "    }\n",
       "\n",
       "    .dataframe thead th {\n",
       "        text-align: right;\n",
       "    }\n",
       "</style>\n",
       "<table border=\"1\" class=\"dataframe\">\n",
       "  <thead>\n",
       "    <tr style=\"text-align: right;\">\n",
       "      <th></th>\n",
       "      <th>Bin</th>\n",
       "      <th>Count</th>\n",
       "      <th>Count (%)</th>\n",
       "      <th>Non-event</th>\n",
       "      <th>Event</th>\n",
       "      <th>Event rate</th>\n",
       "      <th>WoE</th>\n",
       "      <th>IV</th>\n",
       "      <th>JS</th>\n",
       "    </tr>\n",
       "  </thead>\n",
       "  <tbody>\n",
       "    <tr>\n",
       "      <th>0</th>\n",
       "      <td>[1118, 2054, 2055, 1417, 1125, 1323, 365, 667,...</td>\n",
       "      <td>5003</td>\n",
       "      <td>0.05003</td>\n",
       "      <td>4246</td>\n",
       "      <td>757</td>\n",
       "      <td>0.151309</td>\n",
       "      <td>1.5567</td>\n",
       "      <td>0.096272</td>\n",
       "      <td>0.010949</td>\n",
       "    </tr>\n",
       "    <tr>\n",
       "      <th>1</th>\n",
       "      <td>[1909, 1519, 683, 87, 378, 1701, 271, 84, 1910...</td>\n",
       "      <td>6303</td>\n",
       "      <td>0.06303</td>\n",
       "      <td>4612</td>\n",
       "      <td>1691</td>\n",
       "      <td>0.268285</td>\n",
       "      <td>0.83567</td>\n",
       "      <td>0.040291</td>\n",
       "      <td>0.004895</td>\n",
       "    </tr>\n",
       "    <tr>\n",
       "      <th>2</th>\n",
       "      <td>[696, 1806, 292, 211, 27, 1846, 1671, 447, 342...</td>\n",
       "      <td>5006</td>\n",
       "      <td>0.05006</td>\n",
       "      <td>3432</td>\n",
       "      <td>1574</td>\n",
       "      <td>0.314423</td>\n",
       "      <td>0.611851</td>\n",
       "      <td>0.017737</td>\n",
       "      <td>0.002183</td>\n",
       "    </tr>\n",
       "    <tr>\n",
       "      <th>3</th>\n",
       "      <td>[2127, 1998, 2126, 2118, 1995, 1265, 168, 1975...</td>\n",
       "      <td>11373</td>\n",
       "      <td>0.11373</td>\n",
       "      <td>7550</td>\n",
       "      <td>3823</td>\n",
       "      <td>0.336147</td>\n",
       "      <td>0.51284</td>\n",
       "      <td>0.028671</td>\n",
       "      <td>0.003545</td>\n",
       "    </tr>\n",
       "    <tr>\n",
       "      <th>4</th>\n",
       "      <td>[343, 750, 984, 1520, 1792, 257, 1743, 2019, 1...</td>\n",
       "      <td>6665</td>\n",
       "      <td>0.06665</td>\n",
       "      <td>4238</td>\n",
       "      <td>2427</td>\n",
       "      <td>0.364141</td>\n",
       "      <td>0.389764</td>\n",
       "      <td>0.009841</td>\n",
       "      <td>0.001222</td>\n",
       "    </tr>\n",
       "    <tr>\n",
       "      <th>5</th>\n",
       "      <td>[625, 121, 223, 1512, 1604, 1525, 1476, 328, 1...</td>\n",
       "      <td>7487</td>\n",
       "      <td>0.07487</td>\n",
       "      <td>4523</td>\n",
       "      <td>2964</td>\n",
       "      <td>0.395886</td>\n",
       "      <td>0.254964</td>\n",
       "      <td>0.004790</td>\n",
       "      <td>0.000597</td>\n",
       "    </tr>\n",
       "    <tr>\n",
       "      <th>6</th>\n",
       "      <td>[2170, 1548, 367, 126, 70, 1359, 1681, 427, 16...</td>\n",
       "      <td>7451</td>\n",
       "      <td>0.07451</td>\n",
       "      <td>4201</td>\n",
       "      <td>3250</td>\n",
       "      <td>0.436183</td>\n",
       "      <td>0.0889959</td>\n",
       "      <td>0.000588</td>\n",
       "      <td>0.000073</td>\n",
       "    </tr>\n",
       "    <tr>\n",
       "      <th>7</th>\n",
       "      <td>[41, 1879, 774, 488, 512, 1477, 1139, 2099, 20...</td>\n",
       "      <td>7179</td>\n",
       "      <td>0.07179</td>\n",
       "      <td>3775</td>\n",
       "      <td>3404</td>\n",
       "      <td>0.474161</td>\n",
       "      <td>-0.0642226</td>\n",
       "      <td>0.000297</td>\n",
       "      <td>0.000037</td>\n",
       "    </tr>\n",
       "    <tr>\n",
       "      <th>8</th>\n",
       "      <td>[1485, 1647, 14, 86, 1556, 151, 1790, 2140, 45...</td>\n",
       "      <td>8448</td>\n",
       "      <td>0.08448</td>\n",
       "      <td>4134</td>\n",
       "      <td>4314</td>\n",
       "      <td>0.510653</td>\n",
       "      <td>-0.210292</td>\n",
       "      <td>0.003755</td>\n",
       "      <td>0.000469</td>\n",
       "    </tr>\n",
       "    <tr>\n",
       "      <th>9</th>\n",
       "      <td>[454, 1598, 163, 268, 1913, 1510, 1645, 1861, ...</td>\n",
       "      <td>9268</td>\n",
       "      <td>0.09268</td>\n",
       "      <td>4220</td>\n",
       "      <td>5048</td>\n",
       "      <td>0.544670</td>\n",
       "      <td>-0.346829</td>\n",
       "      <td>0.011199</td>\n",
       "      <td>0.001393</td>\n",
       "    </tr>\n",
       "    <tr>\n",
       "      <th>10</th>\n",
       "      <td>[244, 1581, 1983, 679, 2066, 601, 101, 1508, 1...</td>\n",
       "      <td>7513</td>\n",
       "      <td>0.07513</td>\n",
       "      <td>3172</td>\n",
       "      <td>4341</td>\n",
       "      <td>0.577798</td>\n",
       "      <td>-0.481414</td>\n",
       "      <td>0.017428</td>\n",
       "      <td>0.002158</td>\n",
       "    </tr>\n",
       "    <tr>\n",
       "      <th>11</th>\n",
       "      <td>[707, 898, 1511, 1811, 2180, 556, 1753, 2097, ...</td>\n",
       "      <td>7699</td>\n",
       "      <td>0.07699</td>\n",
       "      <td>2957</td>\n",
       "      <td>4742</td>\n",
       "      <td>0.615924</td>\n",
       "      <td>-0.639955</td>\n",
       "      <td>0.031307</td>\n",
       "      <td>0.003848</td>\n",
       "    </tr>\n",
       "    <tr>\n",
       "      <th>12</th>\n",
       "      <td>[1577, 1695, 949, 381, 1611, 1794, 302, 1956, ...</td>\n",
       "      <td>5449</td>\n",
       "      <td>0.05449</td>\n",
       "      <td>1828</td>\n",
       "      <td>3621</td>\n",
       "      <td>0.664526</td>\n",
       "      <td>-0.851199</td>\n",
       "      <td>0.038552</td>\n",
       "      <td>0.004679</td>\n",
       "    </tr>\n",
       "    <tr>\n",
       "      <th>13</th>\n",
       "      <td>[313, 1372, 39, 1810, 926, 1730, 1924, 1967, 1...</td>\n",
       "      <td>5156</td>\n",
       "      <td>0.05156</td>\n",
       "      <td>1294</td>\n",
       "      <td>3862</td>\n",
       "      <td>0.749030</td>\n",
       "      <td>-1.26112</td>\n",
       "      <td>0.076181</td>\n",
       "      <td>0.008938</td>\n",
       "    </tr>\n",
       "    <tr>\n",
       "      <th>14</th>\n",
       "      <td>Special</td>\n",
       "      <td>0</td>\n",
       "      <td>0.00000</td>\n",
       "      <td>0</td>\n",
       "      <td>0</td>\n",
       "      <td>0.000000</td>\n",
       "      <td>0</td>\n",
       "      <td>0.000000</td>\n",
       "      <td>0.000000</td>\n",
       "    </tr>\n",
       "    <tr>\n",
       "      <th>15</th>\n",
       "      <td>Missing</td>\n",
       "      <td>0</td>\n",
       "      <td>0.00000</td>\n",
       "      <td>0</td>\n",
       "      <td>0</td>\n",
       "      <td>0.000000</td>\n",
       "      <td>0</td>\n",
       "      <td>0.000000</td>\n",
       "      <td>0.000000</td>\n",
       "    </tr>\n",
       "    <tr>\n",
       "      <th>Totals</th>\n",
       "      <td></td>\n",
       "      <td>100000</td>\n",
       "      <td>1.00000</td>\n",
       "      <td>54182</td>\n",
       "      <td>45818</td>\n",
       "      <td>0.458180</td>\n",
       "      <td></td>\n",
       "      <td>0.376908</td>\n",
       "      <td>0.044986</td>\n",
       "    </tr>\n",
       "  </tbody>\n",
       "</table>\n",
       "</div>"
      ],
      "text/plain": [
       "                                                      Bin   Count  Count (%)  \\\n",
       "0       [1118, 2054, 2055, 1417, 1125, 1323, 365, 667,...    5003    0.05003   \n",
       "1       [1909, 1519, 683, 87, 378, 1701, 271, 84, 1910...    6303    0.06303   \n",
       "2       [696, 1806, 292, 211, 27, 1846, 1671, 447, 342...    5006    0.05006   \n",
       "3       [2127, 1998, 2126, 2118, 1995, 1265, 168, 1975...   11373    0.11373   \n",
       "4       [343, 750, 984, 1520, 1792, 257, 1743, 2019, 1...    6665    0.06665   \n",
       "5       [625, 121, 223, 1512, 1604, 1525, 1476, 328, 1...    7487    0.07487   \n",
       "6       [2170, 1548, 367, 126, 70, 1359, 1681, 427, 16...    7451    0.07451   \n",
       "7       [41, 1879, 774, 488, 512, 1477, 1139, 2099, 20...    7179    0.07179   \n",
       "8       [1485, 1647, 14, 86, 1556, 151, 1790, 2140, 45...    8448    0.08448   \n",
       "9       [454, 1598, 163, 268, 1913, 1510, 1645, 1861, ...    9268    0.09268   \n",
       "10      [244, 1581, 1983, 679, 2066, 601, 101, 1508, 1...    7513    0.07513   \n",
       "11      [707, 898, 1511, 1811, 2180, 556, 1753, 2097, ...    7699    0.07699   \n",
       "12      [1577, 1695, 949, 381, 1611, 1794, 302, 1956, ...    5449    0.05449   \n",
       "13      [313, 1372, 39, 1810, 926, 1730, 1924, 1967, 1...    5156    0.05156   \n",
       "14                                                Special       0    0.00000   \n",
       "15                                                Missing       0    0.00000   \n",
       "Totals                                                     100000    1.00000   \n",
       "\n",
       "        Non-event  Event  Event rate        WoE        IV        JS  \n",
       "0            4246    757    0.151309     1.5567  0.096272  0.010949  \n",
       "1            4612   1691    0.268285    0.83567  0.040291  0.004895  \n",
       "2            3432   1574    0.314423   0.611851  0.017737  0.002183  \n",
       "3            7550   3823    0.336147    0.51284  0.028671  0.003545  \n",
       "4            4238   2427    0.364141   0.389764  0.009841  0.001222  \n",
       "5            4523   2964    0.395886   0.254964  0.004790  0.000597  \n",
       "6            4201   3250    0.436183  0.0889959  0.000588  0.000073  \n",
       "7            3775   3404    0.474161 -0.0642226  0.000297  0.000037  \n",
       "8            4134   4314    0.510653  -0.210292  0.003755  0.000469  \n",
       "9            4220   5048    0.544670  -0.346829  0.011199  0.001393  \n",
       "10           3172   4341    0.577798  -0.481414  0.017428  0.002158  \n",
       "11           2957   4742    0.615924  -0.639955  0.031307  0.003848  \n",
       "12           1828   3621    0.664526  -0.851199  0.038552  0.004679  \n",
       "13           1294   3862    0.749030   -1.26112  0.076181  0.008938  \n",
       "14              0      0    0.000000          0  0.000000  0.000000  \n",
       "15              0      0    0.000000          0  0.000000  0.000000  \n",
       "Totals      54182  45818    0.458180             0.376908  0.044986  "
      ]
     },
     "execution_count": 191,
     "metadata": {},
     "output_type": "execute_result"
    }
   ],
   "source": [
    "optimal_binning(df['item_id'], df['return']).binning_table.build()"
   ]
  },
  {
   "cell_type": "markdown",
   "metadata": {},
   "source": [
    "Above we can see that the algorithm binned the features `item_id` into 13 distinct bins, while making sure each bin is at least 5% of the total data entries. This table also gives some information about the different WOE of certain groups, indicating that some item groups have substantially more influence on our dependent `return` variable.\n",
    "We will now create binning groups features based on their WOE for:\n",
    "- `item_id`\n",
    "- `brand_id`\n",
    "- `item_color`\n",
    "- `item_size`"
   ]
  },
  {
   "cell_type": "code",
   "execution_count": 192,
   "metadata": {},
   "outputs": [
    {
     "name": "stdout",
     "output_type": "stream",
     "text": [
      "Status of Binning: OPTIMAL\n",
      "Status of Binning: OPTIMAL\n",
      "Status of Binning: OPTIMAL\n",
      "Status of Binning: OPTIMAL\n"
     ]
    }
   ],
   "source": [
    "#columns for which we want to calculate woe_bins \n",
    "woe_cols = ['item_id','brand_id','item_color','item_size']\n",
    "\n",
    "for col in woe_cols:\n",
    "    optb = optimal_binning(df[col], df['return'])\n",
    "    print(f'Status of Binning: {optb.status}')\n",
    "    # use the inbuilt transform func of optb to automatically assign a binning group according to the woe value\n",
    "    df[col+'_group'] = optb.transform(df[col], metric='indices')\n",
    "    \n",
    "    # transform unknown dataset cols\n",
    "    df_unknown[col+'_group'] = optb.transform(df_unknown[col], metric='indices')\n",
    "    \n",
    "    #Change Dtypes\n",
    "    df[col+'_group'] = df[col+'_group'].astype('category') \n",
    "    df_unknown[col+'_group'] = df_unknown[col+'_group'].astype('category') \n",
    "    \n",
    "    #Save Bin Mapping in dict\n",
    "    opt_b_df = optb.binning_table.build()\n",
    "    bin_dict = {}\n",
    "    for index, row in opt_b_df.iterrows():\n",
    "        bin_dict[index] = list(row[0])\n",
    "    \n",
    "    #Save as JSON\n",
    "    with open(f'../data/03_processed/{col}_bin_map.json', 'w') as fp:\n",
    "        json.dump(bin_dict, fp)"
   ]
  },
  {
   "cell_type": "markdown",
   "metadata": {},
   "source": [
    "We will explore the different binning groups when exploring the data."
   ]
  },
  {
   "cell_type": "markdown",
   "metadata": {},
   "source": [
    "## 4. Save Processed Data\n",
    "<a id=\"export\"></a>"
   ]
  },
  {
   "cell_type": "code",
   "execution_count": 193,
   "metadata": {},
   "outputs": [
    {
     "name": "stdout",
     "output_type": "stream",
     "text": [
      "\n",
      "================================> KOWN DF <=====================================\n",
      "<class 'pandas.core.frame.DataFrame'>\n",
      "Int64Index: 100000 entries, 100001 to 200000\n",
      "Data columns (total 26 columns):\n",
      " #   Column                                Non-Null Count   Dtype         \n",
      "---  ------                                --------------   -----         \n",
      " 0   order_date                            100000 non-null  datetime64[ns]\n",
      " 1   delivery_date                         100000 non-null  datetime64[ns]\n",
      " 2   item_id                               100000 non-null  category      \n",
      " 3   item_size                             100000 non-null  category      \n",
      " 4   item_color                            100000 non-null  category      \n",
      " 5   brand_id                              100000 non-null  category      \n",
      " 6   item_price                            100000 non-null  float32       \n",
      " 7   user_id                               100000 non-null  category      \n",
      " 8   user_title                            100000 non-null  category      \n",
      " 9   user_dob                              100000 non-null  datetime64[ns]\n",
      " 10  user_state                            100000 non-null  category      \n",
      " 11  user_reg_date                         100000 non-null  datetime64[ns]\n",
      " 12  return                                100000 non-null  int64         \n",
      " 13  order_weekday                         100000 non-null  category      \n",
      " 14  delivery_days                         100000 non-null  int64         \n",
      " 15  user_account_age                      100000 non-null  int64         \n",
      " 16  user_age                              100000 non-null  int64         \n",
      " 17  total_orders_by_user                  100000 non-null  int64         \n",
      " 18  has_bought_item_before                100000 non-null  int64         \n",
      " 19  is_first_purchase                     100000 non-null  int64         \n",
      " 20  number_of_items_in_order              100000 non-null  int64         \n",
      " 21  ordered_item_multiple_times_in_order  100000 non-null  int64         \n",
      " 22  item_id_group                         100000 non-null  category      \n",
      " 23  brand_id_group                        100000 non-null  category      \n",
      " 24  item_color_group                      100000 non-null  category      \n",
      " 25  item_size_group                       100000 non-null  category      \n",
      "dtypes: category(12), datetime64[ns](4), float32(1), int64(9)\n",
      "memory usage: 13.2 MB\n",
      "\n",
      "================================> UNKOWN DF <=====================================\n",
      "<class 'pandas.core.frame.DataFrame'>\n",
      "Int64Index: 50000 entries, 100001 to 150000\n",
      "Data columns (total 25 columns):\n",
      " #   Column                                Non-Null Count  Dtype         \n",
      "---  ------                                --------------  -----         \n",
      " 0   order_date                            50000 non-null  datetime64[ns]\n",
      " 1   delivery_date                         50000 non-null  datetime64[ns]\n",
      " 2   item_id                               50000 non-null  category      \n",
      " 3   item_size                             50000 non-null  category      \n",
      " 4   item_color                            50000 non-null  category      \n",
      " 5   brand_id                              50000 non-null  category      \n",
      " 6   item_price                            50000 non-null  float32       \n",
      " 7   user_id                               50000 non-null  category      \n",
      " 8   user_title                            50000 non-null  category      \n",
      " 9   user_dob                              50000 non-null  datetime64[ns]\n",
      " 10  user_state                            50000 non-null  category      \n",
      " 11  user_reg_date                         50000 non-null  datetime64[ns]\n",
      " 12  order_weekday                         50000 non-null  category      \n",
      " 13  delivery_days                         50000 non-null  int64         \n",
      " 14  user_account_age                      50000 non-null  int64         \n",
      " 15  user_age                              50000 non-null  int64         \n",
      " 16  total_orders_by_user                  50000 non-null  int64         \n",
      " 17  has_bought_item_before                50000 non-null  int64         \n",
      " 18  is_first_purchase                     50000 non-null  int64         \n",
      " 19  number_of_items_in_order              50000 non-null  int64         \n",
      " 20  ordered_item_multiple_times_in_order  50000 non-null  int64         \n",
      " 21  item_id_group                         50000 non-null  category      \n",
      " 22  brand_id_group                        50000 non-null  category      \n",
      " 23  item_color_group                      50000 non-null  category      \n",
      " 24  item_size_group                       50000 non-null  category      \n",
      "dtypes: category(12), datetime64[ns](4), float32(1), int64(8)\n",
      "memory usage: 6.6 MB\n"
     ]
    }
   ],
   "source": [
    "# Sanity check\n",
    "print('\\n================================> KOWN DF <=====================================')\n",
    "df.info()\n",
    "print('\\n================================> UNKOWN DF <=====================================')\n",
    "df_unknown.info()"
   ]
  },
  {
   "cell_type": "code",
   "execution_count": 194,
   "metadata": {
    "scrolled": true
   },
   "outputs": [
    {
     "data": {
      "text/plain": [
       "True"
      ]
     },
     "execution_count": 194,
     "metadata": {},
     "output_type": "execute_result"
    }
   ],
   "source": [
    "#Sanity #2: check to see if both df's have the same number of columns\n",
    "(len(df.columns)-1 == len(df_unknown.columns) ) & (len(df.columns)-1 == len(df_unknown.columns))"
   ]
  },
  {
   "cell_type": "code",
   "execution_count": 195,
   "metadata": {},
   "outputs": [],
   "source": [
    "# Save processed data with all feutures\n",
    "df.to_pickle('../data/03_processed/BADS_WS2021_known_processed_all_cols.pkl')\n",
    "df_unknown.to_pickle('../data/03_processed/BADS_WS2021_unknown_processed_all_cols.pkl')"
   ]
  }
 ],
 "metadata": {
  "kernelspec": {
   "display_name": "Python 3",
   "language": "python",
   "name": "python3"
  },
  "language_info": {
   "codemirror_mode": {
    "name": "ipython",
    "version": 3
   },
   "file_extension": ".py",
   "mimetype": "text/x-python",
   "name": "python",
   "nbconvert_exporter": "python",
   "pygments_lexer": "ipython3",
   "version": "3.8.5"
  }
 },
 "nbformat": 4,
 "nbformat_minor": 5
}
